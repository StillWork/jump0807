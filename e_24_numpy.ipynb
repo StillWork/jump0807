{
 "cells": [
  {
   "cell_type": "markdown",
   "metadata": {
    "colab_type": "text",
    "collapsed": true,
    "id": "LbOwvOJ58Gz3"
   },
   "source": [
    "# numpy\n",
    "- 데이터프레임은 테이블 구조의 데이터를 편리하게 조작하기 위해서 사용한다\n",
    "- 숫자만으로 구성된 데이터를 대상으로 \"연산\"을 하기 위해서는 배열 (array) 형태여야  한다\n",
    "- 이를 위해 넘파이 라이브러리를 사용한다\n",
    " - 다 차원 배열 ndarray(n-dimensional array)를 다룬다"
   ]
  },
  {
   "cell_type": "markdown",
   "metadata": {},
   "source": [
    "## 리스트/데이터프레임과 배열의 차이\n",
    "- 리스트는 데이터를 \"목록\"으로 만들거나 조작하는 용도 (추가, 삭제, 변형 등)\n",
    "- 데이터프레임은 2차원 테이블 구조의 데이터를 만들고, 조작하는 용도\n",
    "- 배열은 연산을 위해, 숫자만으로 구성된, 수학의 매트릭스와 같은 용도"
   ]
  },
  {
   "cell_type": "markdown",
   "metadata": {
    "id": "spp7Rj5L7Vdv"
   },
   "source": [
    "## 코랩에 한글 폰트 설치\n",
    "- (주의!) 아래 셀을 실행 후에, 런타임 - 런타임 다시 시작을 수행해야 한다\n",
    " - 코랩은 리눅스 머신이면 한글이 미리 설치되어 있지 않다\n",
    " - 한글이 이미 설치된 PC에서는 아래 셀을 실행할 필요없다"
   ]
  },
  {
   "cell_type": "code",
   "execution_count": null,
   "metadata": {
    "colab": {
     "base_uri": "https://localhost:8080/"
    },
    "collapsed": true,
    "id": "bAmv-i0L7Vdv",
    "outputId": "1d5e88b1-1e7a-4d03-c4e3-2ab2fb184207"
   },
   "outputs": [
    {
     "name": "stdout",
     "output_type": "stream",
     "text": [
      "Reading package lists... Done\n",
      "Building dependency tree       \n",
      "Reading state information... Done\n",
      "The following NEW packages will be installed:\n",
      "  fonts-nanum\n",
      "0 upgraded, 1 newly installed, 0 to remove and 38 not upgraded.\n",
      "Need to get 9,599 kB of archives.\n",
      "After this operation, 29.6 MB of additional disk space will be used.\n",
      "Get:1 http://archive.ubuntu.com/ubuntu focal/universe amd64 fonts-nanum all 20180306-3 [9,599 kB]\n",
      "Fetched 9,599 kB in 1s (10.7 MB/s)\n",
      "debconf: unable to initialize frontend: Dialog\n",
      "debconf: (No usable dialog-like program is installed, so the dialog based frontend cannot be used. at /usr/share/perl5/Debconf/FrontEnd/Dialog.pm line 76, <> line 1.)\n",
      "debconf: falling back to frontend: Readline\n",
      "debconf: unable to initialize frontend: Readline\n",
      "debconf: (This frontend requires a controlling tty.)\n",
      "debconf: falling back to frontend: Teletype\n",
      "dpkg-preconfigure: unable to re-open stdin: \n",
      "Selecting previously unselected package fonts-nanum.\n",
      "(Reading database ... 122541 files and directories currently installed.)\n",
      "Preparing to unpack .../fonts-nanum_20180306-3_all.deb ...\n",
      "Unpacking fonts-nanum (20180306-3) ...\n",
      "Setting up fonts-nanum (20180306-3) ...\n",
      "Processing triggers for fontconfig (2.13.1-2ubuntu3) ...\n",
      "/usr/share/fonts: caching, new cache contents: 0 fonts, 1 dirs\n",
      "/usr/share/fonts/truetype: caching, new cache contents: 0 fonts, 3 dirs\n",
      "/usr/share/fonts/truetype/humor-sans: caching, new cache contents: 1 fonts, 0 dirs\n",
      "/usr/share/fonts/truetype/liberation: caching, new cache contents: 16 fonts, 0 dirs\n",
      "/usr/share/fonts/truetype/nanum: caching, new cache contents: 10 fonts, 0 dirs\n",
      "/usr/local/share/fonts: caching, new cache contents: 0 fonts, 0 dirs\n",
      "/root/.local/share/fonts: skipping, no such directory\n",
      "/root/.fonts: skipping, no such directory\n",
      "/usr/share/fonts/truetype: skipping, looped directory detected\n",
      "/usr/share/fonts/truetype/humor-sans: skipping, looped directory detected\n",
      "/usr/share/fonts/truetype/liberation: skipping, looped directory detected\n",
      "/usr/share/fonts/truetype/nanum: skipping, looped directory detected\n",
      "/var/cache/fontconfig: cleaning cache directory\n",
      "/root/.cache/fontconfig: not cleaning non-existent cache directory\n",
      "/root/.fontconfig: not cleaning non-existent cache directory\n",
      "fc-cache: succeeded\n"
     ]
    }
   ],
   "source": [
    "!sudo apt-get install -y fonts-nanum\n",
    "!sudo fc-cache -fv\n",
    "!rm ~/.cache/matplotlib -rf\n",
    "\n",
    "# 런타임 - 런타임 다시시작 수행"
   ]
  },
  {
   "cell_type": "markdown",
   "metadata": {
    "id": "Y4RxSfWv7Vdw"
   },
   "source": [
    "## 한글 사용 설정\n",
    "- 그림에 한글이 보이게 하기 위해서 한글 사용을 설정한다.\n",
    "- 운영체제마다 명령이 다르다"
   ]
  },
  {
   "cell_type": "code",
   "execution_count": null,
   "metadata": {
    "id": "V_Ao-_fK7Vdx"
   },
   "outputs": [],
   "source": [
    "import platform, matplotlib\n",
    "from matplotlib import rc\n",
    "import matplotlib.pyplot as plt \n",
    "\n",
    "# '-' 기호 제대로 보이기\n",
    "matplotlib.rcParams['axes.unicode_minus'] = False\n",
    "\n",
    "# 한글 폰트 불러오기\n",
    "# 윈도우\n",
    "if platform.system() == 'Windows':\n",
    "    rc('font', family=\"Malgun Gothic\")\n",
    "# 맥\n",
    "elif platform.system() == 'Darwin':\n",
    "    rc('font', family='AppleGothic')\n",
    "# 리눅스\n",
    "elif platform.system() == 'Linux':\n",
    "    plt.rcParams['font.family'] = 'NanumBarunGothic' "
   ]
  },
  {
   "cell_type": "markdown",
   "metadata": {},
   "source": [
    "## import\n"
   ]
  },
  {
   "cell_type": "code",
   "execution_count": 4,
   "metadata": {},
   "outputs": [],
   "source": [
    "import pandas as pd"
   ]
  },
  {
   "cell_type": "markdown",
   "metadata": {},
   "source": [
    "# 리스트와 어레이"
   ]
  },
  {
   "cell_type": "markdown",
   "metadata": {},
   "source": [
    "## 리스트 조작"
   ]
  },
  {
   "cell_type": "code",
   "execution_count": 6,
   "metadata": {
    "colab": {},
    "colab_type": "code",
    "id": "tJFSKtuq8Gz_",
    "outputId": "122560e0-52d6-497f-dc54-77624320f483"
   },
   "outputs": [
    {
     "name": "stdout",
     "output_type": "stream",
     "text": [
      "[1, 2, 5, 10, 1, 2, 5, 10, 1, 2, 5, 10]\n",
      "[ 3  6 15 30]\n"
     ]
    }
   ],
   "source": [
    "## 리스트의 복제(*)와 어레이의 곱셈 비교\n",
    "\n",
    "import numpy as np\n",
    "\n",
    "x = [1, 2, 5,10]  # 리스트 생성\n",
    "print(x*3)\n",
    "\n",
    "y = np.array(x) # 리스트를 어레이로 변환\n",
    "print(y*3)"
   ]
  },
  {
   "cell_type": "code",
   "execution_count": 7,
   "metadata": {},
   "outputs": [
    {
     "name": "stdout",
     "output_type": "stream",
     "text": [
      "[1, 2, 5, 10]\n",
      "<class 'numpy.ndarray'>\n",
      "<class 'list'>\n"
     ]
    }
   ],
   "source": [
    "## 어레이를 리스트로 바꾸고 타입 확인하기\n",
    "\n",
    "z = list(y)     # 어레이를 리스트로 타입을 바꾼다\n",
    "print(z)        # [1, 2, 5, 10]\n",
    "print(type(y))  # class 'numpy.ndarray'>\n",
    "print(type(z))  # <class 'list'>"
   ]
  },
  {
   "cell_type": "code",
   "execution_count": 9,
   "metadata": {},
   "outputs": [
    {
     "name": "stdout",
     "output_type": "stream",
     "text": [
      "[ 11  12 103 104]\n",
      "[ -9  -8 -97 -96]\n",
      "[ 10  20 300 400]\n",
      "[0.1  0.2  0.03 0.04]\n"
     ]
    }
   ],
   "source": [
    "## 어레이의 연산은 각 항목별로 수행된다\n",
    "\n",
    "y1 = np.array([1, 2, 3, 4])\n",
    "y2 = np.array([10, 10, 100, 100])\n",
    "\n",
    "print(y1 + y2)  # [ 11  12 103 104]\n",
    "print(y1 - y2)  # [ -9  -8 -97 -96]\n",
    "print(y1 * y2)  # [ 10  20 300 400]\n",
    "print(y1 / y2)  # [0.1  0.2  0.03 0.04]"
   ]
  },
  {
   "cell_type": "code",
   "execution_count": 10,
   "metadata": {},
   "outputs": [
    {
     "name": "stdout",
     "output_type": "stream",
     "text": [
      "[1001 1002 1003 1004]\n",
      "[-999 -998 -997 -996]\n",
      "[1000 2000 3000 4000]\n",
      "[0.001 0.002 0.003 0.004]\n"
     ]
    }
   ],
   "source": [
    "## 어레이에 단변수의 연산을 수행하기\n",
    "\n",
    "y1 = np.array([1, 2, 3, 4])\n",
    "a = 1000\n",
    "\n",
    "print(y1 + a)  # [1001 1002 1003 1004]\n",
    "print(y1 - a)  # [-999 -998 -997 -996]\n",
    "print(y1 * a)  # [1000 2000 3000 4000]\n",
    "print(y1 / a)  # [0.001 0.002 0.003 0.004]"
   ]
  },
  {
   "cell_type": "code",
   "execution_count": 11,
   "metadata": {},
   "outputs": [
    {
     "data": {
      "text/plain": [
       "[1, 2, 3, 4, 10, 10, 100, 100]"
      ]
     },
     "execution_count": 11,
     "metadata": {},
     "output_type": "execute_result"
    }
   ],
   "source": [
    "## 리스트에 대한 + 수행은 두 리스트를 합친다\n",
    "\n",
    "y1 = np.array([1, 2, 3, 4])\n",
    "y2 = np.array([10, 10, 100, 100])\n",
    "\n",
    "list(y1)+list(y2) # [1, 2, 3, 4, 10, 10, 100, 100]"
   ]
  },
  {
   "cell_type": "markdown",
   "metadata": {},
   "source": [
    "## arange\n",
    "- range 타입의 \"범위\" 데이터를 생성한 후 이를 배열로 만든다"
   ]
  },
  {
   "cell_type": "code",
   "execution_count": 12,
   "metadata": {
    "colab": {},
    "colab_type": "code",
    "id": "fl4emopM8G0n",
    "outputId": "c95b26c9-a733-40a7-9601-0ffb41e160c8"
   },
   "outputs": [
    {
     "name": "stdout",
     "output_type": "stream",
     "text": [
      "[0 1 2 3 4 5]\n",
      "[1 2 3 4 5 6]\n",
      "[ 1  4  7 10 13 16 19]\n",
      "[1.1 1.6 2.1 2.6 3.1 3.6]\n"
     ]
    }
   ],
   "source": [
    "# 일정한 간격의 수로 구성된 어레이를 얻는다\n",
    "\n",
    "print(np.arange(6))      # [0 1 2 3 4 5]\n",
    "print(np.arange(1,7))    # [1 2 3 4 5 6]\n",
    "print(np.arange(1,20,3)) # [ 1  4  7 10 13 16 19]\n",
    "print(np.arange(1.1,4,0.5))# [1.1 1.6 2.1 2.6 3.1 3.6]"
   ]
  },
  {
   "cell_type": "markdown",
   "metadata": {},
   "source": [
    "## 데이터프레임과 어레이\n",
    "- 기본적으로 행단로 추출하며 마치 행 번호를 인덱스인 것처럼 사용"
   ]
  },
  {
   "cell_type": "code",
   "execution_count": 13,
   "metadata": {},
   "outputs": [
    {
     "data": {
      "text/html": [
       "<div>\n",
       "<style scoped>\n",
       "    .dataframe tbody tr th:only-of-type {\n",
       "        vertical-align: middle;\n",
       "    }\n",
       "\n",
       "    .dataframe tbody tr th {\n",
       "        vertical-align: top;\n",
       "    }\n",
       "\n",
       "    .dataframe thead th {\n",
       "        text-align: right;\n",
       "    }\n",
       "</style>\n",
       "<table border=\"1\" class=\"dataframe\">\n",
       "  <thead>\n",
       "    <tr style=\"text-align: right;\">\n",
       "      <th></th>\n",
       "      <th>population</th>\n",
       "      <th>temp</th>\n",
       "      <th>cars</th>\n",
       "    </tr>\n",
       "    <tr>\n",
       "      <th>city</th>\n",
       "      <th></th>\n",
       "      <th></th>\n",
       "      <th></th>\n",
       "    </tr>\n",
       "  </thead>\n",
       "  <tbody>\n",
       "    <tr>\n",
       "      <th>서울</th>\n",
       "      <td>990</td>\n",
       "      <td>13</td>\n",
       "      <td>300</td>\n",
       "    </tr>\n",
       "    <tr>\n",
       "      <th>부산</th>\n",
       "      <td>350</td>\n",
       "      <td>16</td>\n",
       "      <td>120</td>\n",
       "    </tr>\n",
       "    <tr>\n",
       "      <th>대구</th>\n",
       "      <td>250</td>\n",
       "      <td>14</td>\n",
       "      <td>80</td>\n",
       "    </tr>\n",
       "    <tr>\n",
       "      <th>대전</th>\n",
       "      <td>154</td>\n",
       "      <td>13</td>\n",
       "      <td>90</td>\n",
       "    </tr>\n",
       "    <tr>\n",
       "      <th>광주</th>\n",
       "      <td>150</td>\n",
       "      <td>15</td>\n",
       "      <td>70</td>\n",
       "    </tr>\n",
       "  </tbody>\n",
       "</table>\n",
       "</div>"
      ],
      "text/plain": [
       "      population  temp  cars\n",
       "city                        \n",
       "서울           990    13   300\n",
       "부산           350    16   120\n",
       "대구           250    14    80\n",
       "대전           154    13    90\n",
       "광주           150    15    70"
      ]
     },
     "execution_count": 13,
     "metadata": {},
     "output_type": "execute_result"
    }
   ],
   "source": [
    "## 임의의 도시정보 데이터프레임을 만드는 예\n",
    "\n",
    "import pandas as pd\n",
    "\n",
    "x = {'city': ['서울', '부산', '대구', '대전', '광주'],\n",
    "     'population': [990, 350, 250, 154, 150],\n",
    "     'temp': [13, 16, 14, 13, 15],\n",
    "     'cars': [300, 120, 80, 90, 70]}\n",
    "\n",
    "df = pd.DataFrame(x)\n",
    "df.set_index(\"city\", inplace=True)\n",
    "df"
   ]
  },
  {
   "cell_type": "code",
   "execution_count": 14,
   "metadata": {},
   "outputs": [
    {
     "name": "stdout",
     "output_type": "stream",
     "text": [
      "(5, 3)\n"
     ]
    },
    {
     "data": {
      "text/plain": [
       "array([[990,  13, 300],\n",
       "       [350,  16, 120],\n",
       "       [250,  14,  80],\n",
       "       [154,  13,  90],\n",
       "       [150,  15,  70]])"
      ]
     },
     "execution_count": 14,
     "metadata": {},
     "output_type": "execute_result"
    }
   ],
   "source": [
    "## 데이터프레임을 어레이로 바꾸는 방법\n",
    "\n",
    "z = df.values\n",
    "print(z.shape)\n",
    "z"
   ]
  },
  {
   "cell_type": "code",
   "execution_count": 15,
   "metadata": {},
   "outputs": [
    {
     "data": {
      "text/plain": [
       "['서울', '부산', '대구', '대전', '광주']"
      ]
     },
     "execution_count": 15,
     "metadata": {},
     "output_type": "execute_result"
    }
   ],
   "source": [
    "list(df.columns)  # 결과: ['population', 'temp', 'cars']\n",
    "list(df.index) # 결과: ['서울', '부산', '대구', '대전', '광주']"
   ]
  },
  {
   "cell_type": "code",
   "execution_count": 14,
   "metadata": {},
   "outputs": [
    {
     "data": {
      "text/html": [
       "<div>\n",
       "<style scoped>\n",
       "    .dataframe tbody tr th:only-of-type {\n",
       "        vertical-align: middle;\n",
       "    }\n",
       "\n",
       "    .dataframe tbody tr th {\n",
       "        vertical-align: top;\n",
       "    }\n",
       "\n",
       "    .dataframe thead th {\n",
       "        text-align: right;\n",
       "    }\n",
       "</style>\n",
       "<table border=\"1\" class=\"dataframe\">\n",
       "  <thead>\n",
       "    <tr style=\"text-align: right;\">\n",
       "      <th></th>\n",
       "      <th>0</th>\n",
       "      <th>1</th>\n",
       "      <th>2</th>\n",
       "    </tr>\n",
       "  </thead>\n",
       "  <tbody>\n",
       "    <tr>\n",
       "      <th>0</th>\n",
       "      <td>990</td>\n",
       "      <td>13</td>\n",
       "      <td>300</td>\n",
       "    </tr>\n",
       "    <tr>\n",
       "      <th>1</th>\n",
       "      <td>350</td>\n",
       "      <td>16</td>\n",
       "      <td>120</td>\n",
       "    </tr>\n",
       "    <tr>\n",
       "      <th>2</th>\n",
       "      <td>250</td>\n",
       "      <td>14</td>\n",
       "      <td>80</td>\n",
       "    </tr>\n",
       "    <tr>\n",
       "      <th>3</th>\n",
       "      <td>154</td>\n",
       "      <td>13</td>\n",
       "      <td>90</td>\n",
       "    </tr>\n",
       "    <tr>\n",
       "      <th>4</th>\n",
       "      <td>150</td>\n",
       "      <td>15</td>\n",
       "      <td>70</td>\n",
       "    </tr>\n",
       "  </tbody>\n",
       "</table>\n",
       "</div>"
      ],
      "text/plain": [
       "     0   1    2\n",
       "0  990  13  300\n",
       "1  350  16  120\n",
       "2  250  14   80\n",
       "3  154  13   90\n",
       "4  150  15   70"
      ]
     },
     "execution_count": 14,
     "metadata": {},
     "output_type": "execute_result"
    }
   ],
   "source": [
    "## 어레이는 바로 데이터프레임으로 바꿀 수 있다.\n",
    "\n",
    "df2 = pd.DataFrame(z)\n",
    "df2"
   ]
  },
  {
   "cell_type": "code",
   "execution_count": 15,
   "metadata": {},
   "outputs": [
    {
     "data": {
      "text/html": [
       "<div>\n",
       "<style scoped>\n",
       "    .dataframe tbody tr th:only-of-type {\n",
       "        vertical-align: middle;\n",
       "    }\n",
       "\n",
       "    .dataframe tbody tr th {\n",
       "        vertical-align: top;\n",
       "    }\n",
       "\n",
       "    .dataframe thead th {\n",
       "        text-align: right;\n",
       "    }\n",
       "</style>\n",
       "<table border=\"1\" class=\"dataframe\">\n",
       "  <thead>\n",
       "    <tr style=\"text-align: right;\">\n",
       "      <th></th>\n",
       "      <th>population</th>\n",
       "      <th>temp</th>\n",
       "      <th>cars</th>\n",
       "    </tr>\n",
       "    <tr>\n",
       "      <th>city</th>\n",
       "      <th></th>\n",
       "      <th></th>\n",
       "      <th></th>\n",
       "    </tr>\n",
       "  </thead>\n",
       "  <tbody>\n",
       "    <tr>\n",
       "      <th>서울</th>\n",
       "      <td>990</td>\n",
       "      <td>13</td>\n",
       "      <td>300</td>\n",
       "    </tr>\n",
       "    <tr>\n",
       "      <th>부산</th>\n",
       "      <td>350</td>\n",
       "      <td>16</td>\n",
       "      <td>120</td>\n",
       "    </tr>\n",
       "    <tr>\n",
       "      <th>대구</th>\n",
       "      <td>250</td>\n",
       "      <td>14</td>\n",
       "      <td>80</td>\n",
       "    </tr>\n",
       "    <tr>\n",
       "      <th>대전</th>\n",
       "      <td>154</td>\n",
       "      <td>13</td>\n",
       "      <td>90</td>\n",
       "    </tr>\n",
       "    <tr>\n",
       "      <th>광주</th>\n",
       "      <td>150</td>\n",
       "      <td>15</td>\n",
       "      <td>70</td>\n",
       "    </tr>\n",
       "  </tbody>\n",
       "</table>\n",
       "</div>"
      ],
      "text/plain": [
       "      population  temp  cars\n",
       "city                        \n",
       "서울           990    13   300\n",
       "부산           350    16   120\n",
       "대구           250    14    80\n",
       "대전           154    13    90\n",
       "광주           150    15    70"
      ]
     },
     "execution_count": 15,
     "metadata": {},
     "output_type": "execute_result"
    }
   ],
   "source": [
    "## 데이터프레임을 만들면서 인덱스와 컬럼명을 지정\n",
    "\n",
    "df2 = pd.DataFrame(z, index=df.index, columns=df.columns)\n",
    "df2"
   ]
  },
  {
   "cell_type": "code",
   "execution_count": 16,
   "metadata": {},
   "outputs": [
    {
     "data": {
      "text/plain": [
       "array([[990,  13, 300],\n",
       "       [350,  16, 120],\n",
       "       [250,  14,  80]])"
      ]
     },
     "execution_count": 16,
     "metadata": {},
     "output_type": "execute_result"
    }
   ],
   "source": [
    "## 어레이의 0~3 사이의 행을 얻기\n",
    "\n",
    "z[:3]"
   ]
  },
  {
   "cell_type": "code",
   "execution_count": 17,
   "metadata": {},
   "outputs": [
    {
     "data": {
      "text/plain": [
       "array([[990, 300],\n",
       "       [350, 120],\n",
       "       [250,  80],\n",
       "       [154,  90],\n",
       "       [150,  70]])"
      ]
     },
     "execution_count": 17,
     "metadata": {},
     "output_type": "execute_result"
    }
   ],
   "source": [
    "## 모든 행에 대해서, 컬럼 0과 2만 얻기\n",
    "\n",
    "z[:,[0,2]]"
   ]
  },
  {
   "cell_type": "code",
   "execution_count": 16,
   "metadata": {},
   "outputs": [
    {
     "data": {
      "text/plain": [
       "(array([[ 0,  1,  2],\n",
       "        [ 3,  4,  5],\n",
       "        [ 6,  7,  8],\n",
       "        [ 9, 10, 11]]),\n",
       " array([[100, 101, 102],\n",
       "        [103, 104, 105],\n",
       "        [106, 107, 108],\n",
       "        [109, 110, 111]]))"
      ]
     },
     "execution_count": 16,
     "metadata": {},
     "output_type": "execute_result"
    }
   ],
   "source": [
    "## 임의의 어레이 두개 생성\n",
    "\n",
    "x1 = np.arange(0,12).reshape(4,3)\n",
    "x2 = np.arange(100,112).reshape(4,3)\n",
    "\n",
    "x1, x2"
   ]
  },
  {
   "cell_type": "code",
   "execution_count": 19,
   "metadata": {},
   "outputs": [
    {
     "data": {
      "text/plain": [
       "array([[  0,   1,   2],\n",
       "       [  3,   4,   5],\n",
       "       [  6,   7,   8],\n",
       "       [  9,  10,  11],\n",
       "       [100, 101, 102],\n",
       "       [103, 104, 105],\n",
       "       [106, 107, 108],\n",
       "       [109, 110, 111]])"
      ]
     },
     "execution_count": 19,
     "metadata": {},
     "output_type": "execute_result"
    }
   ],
   "source": [
    "## 디폴트는 행 방향 (세로 방향)으로 붙인다\n",
    "\n",
    "x3 = np.concatenate((x1, x2))\n",
    "x3\n"
   ]
  },
  {
   "cell_type": "code",
   "execution_count": 20,
   "metadata": {},
   "outputs": [
    {
     "data": {
      "text/plain": [
       "array([[  0,   1,   2, 100, 101, 102],\n",
       "       [  3,   4,   5, 103, 104, 105],\n",
       "       [  6,   7,   8, 106, 107, 108],\n",
       "       [  9,  10,  11, 109, 110, 111]])"
      ]
     },
     "execution_count": 20,
     "metadata": {},
     "output_type": "execute_result"
    }
   ],
   "source": [
    "## 컬럼 방향으로 붙이기 (axis=1)\n",
    "\n",
    "x3 = np.concatenate((x1, x2), axis=1)\n",
    "x3"
   ]
  },
  {
   "cell_type": "code",
   "execution_count": 20,
   "metadata": {},
   "outputs": [
    {
     "name": "stdout",
     "output_type": "stream",
     "text": [
      "[[ 0  1  2  3  4  5  6  7]\n",
      " [ 8  9 10 11 12 13 14 15]\n",
      " [16 17 18 19 20 21 22 23]\n",
      " [24 25 26 27 28 29 30 31]\n",
      " [32 33 34 35 36 37 38 39]\n",
      " [40 41 42 43 44 45 46 47]]\n",
      "0,1,2,3,4,5,6,7\n",
      "8,9,10,11,12,13,14,15\n",
      "16,17,18,19,20,21,22,23\n",
      "24,25,26,27,28,29,30,31\n",
      "32,33,34,35,36,37,38,39\n",
      "40,41,42,43,44,45,46,47\n",
      "\n"
     ]
    }
   ],
   "source": [
    "## 어레이를 csv 파일로 저장한 후 파일 읽기\n",
    "\n",
    "x = np.arange(48).reshape(6,8)\n",
    "print(x)\n",
    "np.savetxt('big.csv', x, fmt='%d', delimiter=',')\n",
    "\n",
    "with open('big.csv') as f: \n",
    "    print(f.read())"
   ]
  },
  {
   "cell_type": "code",
   "execution_count": 22,
   "metadata": {},
   "outputs": [
    {
     "data": {
      "text/plain": [
       "array([[ 0.,  1.,  2.,  3.,  4.,  5.,  6.,  7.],\n",
       "       [ 8.,  9., 10., 11., 12., 13., 14., 15.],\n",
       "       [16., 17., 18., 19., 20., 21., 22., 23.],\n",
       "       [24., 25., 26., 27., 28., 29., 30., 31.],\n",
       "       [32., 33., 34., 35., 36., 37., 38., 39.],\n",
       "       [40., 41., 42., 43., 44., 45., 46., 47.]])"
      ]
     },
     "execution_count": 22,
     "metadata": {},
     "output_type": "execute_result"
    }
   ],
   "source": [
    "## csv 파일의 내용을 어레이로 바로 읽기\n",
    "\n",
    "y = np.loadtxt('big.csv', delimiter=',')\n",
    "y"
   ]
  }
 ],
 "metadata": {
  "colab": {
   "collapsed_sections": [],
   "name": "g_02_numpy.ipynb",
   "provenance": []
  },
  "kernelspec": {
   "display_name": "Python 3",
   "language": "python",
   "name": "python3"
  },
  "language_info": {
   "codemirror_mode": {
    "name": "ipython",
    "version": 3
   },
   "file_extension": ".py",
   "mimetype": "text/x-python",
   "name": "python",
   "nbconvert_exporter": "python",
   "pygments_lexer": "ipython3",
   "version": "3.8.8"
  },
  "toc": {
   "base_numbering": 1,
   "nav_menu": {},
   "number_sections": false,
   "sideBar": true,
   "skip_h1_title": false,
   "title_cell": "Table of Contents",
   "title_sidebar": "Contents",
   "toc_cell": false,
   "toc_position": {
    "height": "calc(100% - 180px)",
    "left": "10px",
    "top": "150px",
    "width": "184.312px"
   },
   "toc_section_display": true,
   "toc_window_display": false
  }
 },
 "nbformat": 4,
 "nbformat_minor": 1
}
