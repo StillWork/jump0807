{
 "cells": [
  {
   "cell_type": "markdown",
   "metadata": {
    "colab_type": "text",
    "id": "mgKnWaQi0Ygg"
   },
   "source": [
    "# 시계열 데이터 처리\n",
    "- shift를 이용한 데이터 처리\n"
   ]
  },
  {
   "cell_type": "markdown",
   "metadata": {},
   "source": [
    "## import"
   ]
  },
  {
   "cell_type": "code",
   "execution_count": 1,
   "metadata": {
    "colab": {},
    "colab_type": "code",
    "id": "2uPsZz6Z0Ygi"
   },
   "outputs": [],
   "source": [
    "import pandas as pd\n",
    "import numpy as np\n",
    "import matplotlib.pyplot as plt\n",
    "%config InlineBackend.figure_format = 'retina'\n",
    "import matplotlib\n",
    "matplotlib.rcParams['figure.figsize'] = (8,6)\n",
    "matplotlib.rcParams.update({'font.size': 13})"
   ]
  },
  {
   "cell_type": "code",
   "execution_count": 2,
   "metadata": {},
   "outputs": [],
   "source": [
    "from sklearn.linear_model import LinearRegression\n",
    "from sklearn.ensemble import RandomForestRegressor\n",
    "from lightgbm import LGBMRegressor\n",
    "\n",
    "from sklearn.model_selection import train_test_split\n",
    "from sklearn.metrics import mean_squared_error, mean_absolute_error\n",
    "from sklearn.metrics import mean_absolute_percentage_error,r2_score               "
   ]
  },
  {
   "cell_type": "code",
   "execution_count": 3,
   "metadata": {},
   "outputs": [],
   "source": [
    "def show_reg_result(y_test,y_pred):\n",
    "    print(\"Max Error: \", \n",
    "      round(np.abs(y_test - y_pred).max(),3))\n",
    "    print(\"Mean Absolute Error: \", \n",
    "      round(np.abs(y_test-y_pred).mean(),3))\n",
    "    print(\"Root Mean Squared Error: \", \n",
    "      mean_squared_error(y_test,y_pred, squared=False).round(3))\n",
    "    print(\"R-Squared: \", \n",
    "      r2_score(y_test, y_pred).round(3))"
   ]
  },
  {
   "cell_type": "code",
   "execution_count": 4,
   "metadata": {
    "colab": {
     "base_uri": "https://localhost:8080/",
     "height": 71
    },
    "colab_type": "code",
    "executionInfo": {
     "elapsed": 870,
     "status": "ok",
     "timestamp": 1573631519959,
     "user": {
      "displayName": "김화종",
      "photoUrl": "https://lh3.googleusercontent.com/a-/AAuE7mCOtXjyLykQ_8l9Pq2rL3r5y110ynjRS1eb1EzpcQ=s64",
      "userId": "17353049580175403985"
     },
     "user_tz": -540
    },
    "id": "snIhFzzV0YhB",
    "outputId": "95980921-5415-4112-a9ee-e3f1e3af70c7",
    "scrolled": true
   },
   "outputs": [],
   "source": [
    "def plot_reg_result(y_test, y_pred, N=50):\n",
    "    y_test=y_test.ravel()\n",
    "    y_pred=y_pred.ravel()\n",
    "    plt.plot(y_test[:N], 'r.-', label='y_test')\n",
    "    plt.plot(y_pred[:N], 'b.--', label='y_pred')\n",
    "    plt.legend()\n",
    "    plt.show()\n",
    "    plt.title(\"Residue Plot\")\n",
    "    plt.scatter(y_test, y_test - y_pred, s=5)"
   ]
  },
  {
   "cell_type": "markdown",
   "metadata": {},
   "source": [
    "# 에너지 사용 예측\n",
    "\n",
    "## 데이터\n",
    "\n",
    "- 한 가정의 3년간 시간 단위 에너지 사용 데이터를 이용"
   ]
  },
  {
   "cell_type": "code",
   "execution_count": 5,
   "metadata": {},
   "outputs": [
    {
     "name": "stdout",
     "output_type": "stream",
     "text": [
      "(26304, 2)\n"
     ]
    },
    {
     "data": {
      "text/html": [
       "<div>\n",
       "<style scoped>\n",
       "    .dataframe tbody tr th:only-of-type {\n",
       "        vertical-align: middle;\n",
       "    }\n",
       "\n",
       "    .dataframe tbody tr th {\n",
       "        vertical-align: top;\n",
       "    }\n",
       "\n",
       "    .dataframe thead th {\n",
       "        text-align: right;\n",
       "    }\n",
       "</style>\n",
       "<table border=\"1\" class=\"dataframe\">\n",
       "  <thead>\n",
       "    <tr style=\"text-align: right;\">\n",
       "      <th></th>\n",
       "      <th>load</th>\n",
       "      <th>temp</th>\n",
       "    </tr>\n",
       "    <tr>\n",
       "      <th>timestamp</th>\n",
       "      <th></th>\n",
       "      <th></th>\n",
       "    </tr>\n",
       "  </thead>\n",
       "  <tbody>\n",
       "    <tr>\n",
       "      <th>2012-01-01 00:00:00</th>\n",
       "      <td>2698.0</td>\n",
       "      <td>32.000000</td>\n",
       "    </tr>\n",
       "    <tr>\n",
       "      <th>2012-01-01 01:00:00</th>\n",
       "      <td>2558.0</td>\n",
       "      <td>32.666667</td>\n",
       "    </tr>\n",
       "    <tr>\n",
       "      <th>2012-01-01 02:00:00</th>\n",
       "      <td>2444.0</td>\n",
       "      <td>30.000000</td>\n",
       "    </tr>\n",
       "  </tbody>\n",
       "</table>\n",
       "</div>"
      ],
      "text/plain": [
       "                       load       temp\n",
       "timestamp                             \n",
       "2012-01-01 00:00:00  2698.0  32.000000\n",
       "2012-01-01 01:00:00  2558.0  32.666667\n",
       "2012-01-01 02:00:00  2444.0  30.000000"
      ]
     },
     "execution_count": 5,
     "metadata": {},
     "output_type": "execute_result"
    }
   ],
   "source": [
    "# power = pd.read_csv(\"https://raw.githubusercontent.com/StillWork/data/master/energy_3years.csv\",\n",
    "#                  parse_dates=['timestamp'])\n",
    "power = pd.read_csv(\"./energy.csv\",\n",
    "                 parse_dates=['timestamp'])\n",
    "power.set_index(\"timestamp\", inplace=True)\n",
    "\n",
    "print(power.shape)\n",
    "power[:3]"
   ]
  },
  {
   "cell_type": "code",
   "execution_count": 7,
   "metadata": {},
   "outputs": [
    {
     "name": "stdout",
     "output_type": "stream",
     "text": [
      "(8760, 2)\n"
     ]
    },
    {
     "data": {
      "text/html": [
       "<div>\n",
       "<style scoped>\n",
       "    .dataframe tbody tr th:only-of-type {\n",
       "        vertical-align: middle;\n",
       "    }\n",
       "\n",
       "    .dataframe tbody tr th {\n",
       "        vertical-align: top;\n",
       "    }\n",
       "\n",
       "    .dataframe thead th {\n",
       "        text-align: right;\n",
       "    }\n",
       "</style>\n",
       "<table border=\"1\" class=\"dataframe\">\n",
       "  <thead>\n",
       "    <tr style=\"text-align: right;\">\n",
       "      <th></th>\n",
       "      <th>load</th>\n",
       "      <th>temp</th>\n",
       "    </tr>\n",
       "    <tr>\n",
       "      <th>timestamp</th>\n",
       "      <th></th>\n",
       "      <th></th>\n",
       "    </tr>\n",
       "  </thead>\n",
       "  <tbody>\n",
       "    <tr>\n",
       "      <th>2012-01-01 00:00:00</th>\n",
       "      <td>2698.0</td>\n",
       "      <td>32.000000</td>\n",
       "    </tr>\n",
       "    <tr>\n",
       "      <th>2012-01-01 01:00:00</th>\n",
       "      <td>2558.0</td>\n",
       "      <td>32.666667</td>\n",
       "    </tr>\n",
       "    <tr>\n",
       "      <th>2012-01-01 02:00:00</th>\n",
       "      <td>2444.0</td>\n",
       "      <td>30.000000</td>\n",
       "    </tr>\n",
       "  </tbody>\n",
       "</table>\n",
       "</div>"
      ],
      "text/plain": [
       "                       load       temp\n",
       "timestamp                             \n",
       "2012-01-01 00:00:00  2698.0  32.000000\n",
       "2012-01-01 01:00:00  2558.0  32.666667\n",
       "2012-01-01 02:00:00  2444.0  30.000000"
      ]
     },
     "execution_count": 7,
     "metadata": {},
     "output_type": "execute_result"
    }
   ],
   "source": [
    "# 단변수 예측\n",
    "# df = power[['load', 'temp']]\n",
    "df_power = power[:24*365].copy()\n",
    "print(df_power.shape)\n",
    "df_power[:3]"
   ]
  },
  {
   "cell_type": "markdown",
   "metadata": {},
   "source": [
    "# shift를 이용한 특성 추가"
   ]
  },
  {
   "cell_type": "code",
   "execution_count": 25,
   "metadata": {},
   "outputs": [],
   "source": [
    "df = df_power.copy()"
   ]
  },
  {
   "cell_type": "code",
   "execution_count": 26,
   "metadata": {},
   "outputs": [
    {
     "data": {
      "text/html": [
       "<div>\n",
       "<style scoped>\n",
       "    .dataframe tbody tr th:only-of-type {\n",
       "        vertical-align: middle;\n",
       "    }\n",
       "\n",
       "    .dataframe tbody tr th {\n",
       "        vertical-align: top;\n",
       "    }\n",
       "\n",
       "    .dataframe thead th {\n",
       "        text-align: right;\n",
       "    }\n",
       "</style>\n",
       "<table border=\"1\" class=\"dataframe\">\n",
       "  <thead>\n",
       "    <tr style=\"text-align: right;\">\n",
       "      <th></th>\n",
       "      <th>load</th>\n",
       "      <th>temp</th>\n",
       "      <th>load-1</th>\n",
       "    </tr>\n",
       "    <tr>\n",
       "      <th>timestamp</th>\n",
       "      <th></th>\n",
       "      <th></th>\n",
       "      <th></th>\n",
       "    </tr>\n",
       "  </thead>\n",
       "  <tbody>\n",
       "    <tr>\n",
       "      <th>2012-01-01 00:00:00</th>\n",
       "      <td>2698.0</td>\n",
       "      <td>32.000000</td>\n",
       "      <td>NaN</td>\n",
       "    </tr>\n",
       "    <tr>\n",
       "      <th>2012-01-01 01:00:00</th>\n",
       "      <td>2558.0</td>\n",
       "      <td>32.666667</td>\n",
       "      <td>2698.0</td>\n",
       "    </tr>\n",
       "    <tr>\n",
       "      <th>2012-01-01 02:00:00</th>\n",
       "      <td>2444.0</td>\n",
       "      <td>30.000000</td>\n",
       "      <td>2558.0</td>\n",
       "    </tr>\n",
       "  </tbody>\n",
       "</table>\n",
       "</div>"
      ],
      "text/plain": [
       "                       load       temp  load-1\n",
       "timestamp                                     \n",
       "2012-01-01 00:00:00  2698.0  32.000000     NaN\n",
       "2012-01-01 01:00:00  2558.0  32.666667  2698.0\n",
       "2012-01-01 02:00:00  2444.0  30.000000  2558.0"
      ]
     },
     "execution_count": 26,
     "metadata": {},
     "output_type": "execute_result"
    }
   ],
   "source": [
    "df[\"load-1\"] = df[\"load\"].shift(1)\n",
    "df[:3]"
   ]
  },
  {
   "cell_type": "code",
   "execution_count": 30,
   "metadata": {},
   "outputs": [],
   "source": [
    "# 임의의 컬럼을 아래로 shift(n_shift) 수행하는 함수\n",
    "def add_shifts(df_input, **cols):\n",
    "    df = df_input.copy()\n",
    "    for col, n_shift in cols.items():\n",
    "        for i in range (1, n_shift+1):\n",
    "            df[col+'-'+str(i)]=df[col].shift(i)\n",
    "    return df"
   ]
  },
  {
   "cell_type": "code",
   "execution_count": 31,
   "metadata": {},
   "outputs": [
    {
     "data": {
      "text/html": [
       "<div>\n",
       "<style scoped>\n",
       "    .dataframe tbody tr th:only-of-type {\n",
       "        vertical-align: middle;\n",
       "    }\n",
       "\n",
       "    .dataframe tbody tr th {\n",
       "        vertical-align: top;\n",
       "    }\n",
       "\n",
       "    .dataframe thead th {\n",
       "        text-align: right;\n",
       "    }\n",
       "</style>\n",
       "<table border=\"1\" class=\"dataframe\">\n",
       "  <thead>\n",
       "    <tr style=\"text-align: right;\">\n",
       "      <th></th>\n",
       "      <th>load</th>\n",
       "      <th>temp</th>\n",
       "      <th>load-1</th>\n",
       "      <th>load-2</th>\n",
       "      <th>load-3</th>\n",
       "    </tr>\n",
       "    <tr>\n",
       "      <th>timestamp</th>\n",
       "      <th></th>\n",
       "      <th></th>\n",
       "      <th></th>\n",
       "      <th></th>\n",
       "      <th></th>\n",
       "    </tr>\n",
       "  </thead>\n",
       "  <tbody>\n",
       "    <tr>\n",
       "      <th>2012-01-01 00:00:00</th>\n",
       "      <td>2698.0</td>\n",
       "      <td>32.000000</td>\n",
       "      <td>NaN</td>\n",
       "      <td>NaN</td>\n",
       "      <td>NaN</td>\n",
       "    </tr>\n",
       "    <tr>\n",
       "      <th>2012-01-01 01:00:00</th>\n",
       "      <td>2558.0</td>\n",
       "      <td>32.666667</td>\n",
       "      <td>2698.0</td>\n",
       "      <td>NaN</td>\n",
       "      <td>NaN</td>\n",
       "    </tr>\n",
       "    <tr>\n",
       "      <th>2012-01-01 02:00:00</th>\n",
       "      <td>2444.0</td>\n",
       "      <td>30.000000</td>\n",
       "      <td>2558.0</td>\n",
       "      <td>2698.0</td>\n",
       "      <td>NaN</td>\n",
       "    </tr>\n",
       "    <tr>\n",
       "      <th>2012-01-01 03:00:00</th>\n",
       "      <td>2402.0</td>\n",
       "      <td>31.000000</td>\n",
       "      <td>2444.0</td>\n",
       "      <td>2558.0</td>\n",
       "      <td>2698.0</td>\n",
       "    </tr>\n",
       "    <tr>\n",
       "      <th>2012-01-01 04:00:00</th>\n",
       "      <td>2403.0</td>\n",
       "      <td>32.000000</td>\n",
       "      <td>2402.0</td>\n",
       "      <td>2444.0</td>\n",
       "      <td>2558.0</td>\n",
       "    </tr>\n",
       "    <tr>\n",
       "      <th>...</th>\n",
       "      <td>...</td>\n",
       "      <td>...</td>\n",
       "      <td>...</td>\n",
       "      <td>...</td>\n",
       "      <td>...</td>\n",
       "    </tr>\n",
       "    <tr>\n",
       "      <th>2012-12-30 19:00:00</th>\n",
       "      <td>4119.0</td>\n",
       "      <td>17.666667</td>\n",
       "      <td>4253.0</td>\n",
       "      <td>4304.0</td>\n",
       "      <td>4065.0</td>\n",
       "    </tr>\n",
       "    <tr>\n",
       "      <th>2012-12-30 20:00:00</th>\n",
       "      <td>3977.0</td>\n",
       "      <td>16.666667</td>\n",
       "      <td>4119.0</td>\n",
       "      <td>4253.0</td>\n",
       "      <td>4304.0</td>\n",
       "    </tr>\n",
       "    <tr>\n",
       "      <th>2012-12-30 21:00:00</th>\n",
       "      <td>3736.0</td>\n",
       "      <td>16.666667</td>\n",
       "      <td>3977.0</td>\n",
       "      <td>4119.0</td>\n",
       "      <td>4253.0</td>\n",
       "    </tr>\n",
       "    <tr>\n",
       "      <th>2012-12-30 22:00:00</th>\n",
       "      <td>3444.0</td>\n",
       "      <td>17.333333</td>\n",
       "      <td>3736.0</td>\n",
       "      <td>3977.0</td>\n",
       "      <td>4119.0</td>\n",
       "    </tr>\n",
       "    <tr>\n",
       "      <th>2012-12-30 23:00:00</th>\n",
       "      <td>3178.0</td>\n",
       "      <td>17.000000</td>\n",
       "      <td>3444.0</td>\n",
       "      <td>3736.0</td>\n",
       "      <td>3977.0</td>\n",
       "    </tr>\n",
       "  </tbody>\n",
       "</table>\n",
       "<p>8760 rows × 5 columns</p>\n",
       "</div>"
      ],
      "text/plain": [
       "                       load       temp  load-1  load-2  load-3\n",
       "timestamp                                                     \n",
       "2012-01-01 00:00:00  2698.0  32.000000     NaN     NaN     NaN\n",
       "2012-01-01 01:00:00  2558.0  32.666667  2698.0     NaN     NaN\n",
       "2012-01-01 02:00:00  2444.0  30.000000  2558.0  2698.0     NaN\n",
       "2012-01-01 03:00:00  2402.0  31.000000  2444.0  2558.0  2698.0\n",
       "2012-01-01 04:00:00  2403.0  32.000000  2402.0  2444.0  2558.0\n",
       "...                     ...        ...     ...     ...     ...\n",
       "2012-12-30 19:00:00  4119.0  17.666667  4253.0  4304.0  4065.0\n",
       "2012-12-30 20:00:00  3977.0  16.666667  4119.0  4253.0  4304.0\n",
       "2012-12-30 21:00:00  3736.0  16.666667  3977.0  4119.0  4253.0\n",
       "2012-12-30 22:00:00  3444.0  17.333333  3736.0  3977.0  4119.0\n",
       "2012-12-30 23:00:00  3178.0  17.000000  3444.0  3736.0  3977.0\n",
       "\n",
       "[8760 rows x 5 columns]"
      ]
     },
     "execution_count": 31,
     "metadata": {},
     "output_type": "execute_result"
    }
   ],
   "source": [
    "cols = {'load':3}\n",
    "df_sh = add_shifts(df, **cols)\n",
    "df_sh"
   ]
  },
  {
   "cell_type": "code",
   "execution_count": 33,
   "metadata": {},
   "outputs": [
    {
     "data": {
      "text/html": [
       "<div>\n",
       "<style scoped>\n",
       "    .dataframe tbody tr th:only-of-type {\n",
       "        vertical-align: middle;\n",
       "    }\n",
       "\n",
       "    .dataframe tbody tr th {\n",
       "        vertical-align: top;\n",
       "    }\n",
       "\n",
       "    .dataframe thead th {\n",
       "        text-align: right;\n",
       "    }\n",
       "</style>\n",
       "<table border=\"1\" class=\"dataframe\">\n",
       "  <thead>\n",
       "    <tr style=\"text-align: right;\">\n",
       "      <th></th>\n",
       "      <th>load</th>\n",
       "      <th>temp</th>\n",
       "      <th>load-1</th>\n",
       "      <th>load+1</th>\n",
       "    </tr>\n",
       "    <tr>\n",
       "      <th>timestamp</th>\n",
       "      <th></th>\n",
       "      <th></th>\n",
       "      <th></th>\n",
       "      <th></th>\n",
       "    </tr>\n",
       "  </thead>\n",
       "  <tbody>\n",
       "    <tr>\n",
       "      <th>2012-01-01 00:00:00</th>\n",
       "      <td>2698.0</td>\n",
       "      <td>32.000000</td>\n",
       "      <td>NaN</td>\n",
       "      <td>2558.0</td>\n",
       "    </tr>\n",
       "    <tr>\n",
       "      <th>2012-01-01 01:00:00</th>\n",
       "      <td>2558.0</td>\n",
       "      <td>32.666667</td>\n",
       "      <td>2698.0</td>\n",
       "      <td>2444.0</td>\n",
       "    </tr>\n",
       "    <tr>\n",
       "      <th>2012-01-01 02:00:00</th>\n",
       "      <td>2444.0</td>\n",
       "      <td>30.000000</td>\n",
       "      <td>2558.0</td>\n",
       "      <td>2402.0</td>\n",
       "    </tr>\n",
       "    <tr>\n",
       "      <th>2012-01-01 03:00:00</th>\n",
       "      <td>2402.0</td>\n",
       "      <td>31.000000</td>\n",
       "      <td>2444.0</td>\n",
       "      <td>2403.0</td>\n",
       "    </tr>\n",
       "    <tr>\n",
       "      <th>2012-01-01 04:00:00</th>\n",
       "      <td>2403.0</td>\n",
       "      <td>32.000000</td>\n",
       "      <td>2402.0</td>\n",
       "      <td>2453.0</td>\n",
       "    </tr>\n",
       "    <tr>\n",
       "      <th>...</th>\n",
       "      <td>...</td>\n",
       "      <td>...</td>\n",
       "      <td>...</td>\n",
       "      <td>...</td>\n",
       "    </tr>\n",
       "    <tr>\n",
       "      <th>2012-12-30 19:00:00</th>\n",
       "      <td>4119.0</td>\n",
       "      <td>17.666667</td>\n",
       "      <td>4253.0</td>\n",
       "      <td>3977.0</td>\n",
       "    </tr>\n",
       "    <tr>\n",
       "      <th>2012-12-30 20:00:00</th>\n",
       "      <td>3977.0</td>\n",
       "      <td>16.666667</td>\n",
       "      <td>4119.0</td>\n",
       "      <td>3736.0</td>\n",
       "    </tr>\n",
       "    <tr>\n",
       "      <th>2012-12-30 21:00:00</th>\n",
       "      <td>3736.0</td>\n",
       "      <td>16.666667</td>\n",
       "      <td>3977.0</td>\n",
       "      <td>3444.0</td>\n",
       "    </tr>\n",
       "    <tr>\n",
       "      <th>2012-12-30 22:00:00</th>\n",
       "      <td>3444.0</td>\n",
       "      <td>17.333333</td>\n",
       "      <td>3736.0</td>\n",
       "      <td>3178.0</td>\n",
       "    </tr>\n",
       "    <tr>\n",
       "      <th>2012-12-30 23:00:00</th>\n",
       "      <td>3178.0</td>\n",
       "      <td>17.000000</td>\n",
       "      <td>3444.0</td>\n",
       "      <td>NaN</td>\n",
       "    </tr>\n",
       "  </tbody>\n",
       "</table>\n",
       "<p>8760 rows × 4 columns</p>\n",
       "</div>"
      ],
      "text/plain": [
       "                       load       temp  load-1  load+1\n",
       "timestamp                                             \n",
       "2012-01-01 00:00:00  2698.0  32.000000     NaN  2558.0\n",
       "2012-01-01 01:00:00  2558.0  32.666667  2698.0  2444.0\n",
       "2012-01-01 02:00:00  2444.0  30.000000  2558.0  2402.0\n",
       "2012-01-01 03:00:00  2402.0  31.000000  2444.0  2403.0\n",
       "2012-01-01 04:00:00  2403.0  32.000000  2402.0  2453.0\n",
       "...                     ...        ...     ...     ...\n",
       "2012-12-30 19:00:00  4119.0  17.666667  4253.0  3977.0\n",
       "2012-12-30 20:00:00  3977.0  16.666667  4119.0  3736.0\n",
       "2012-12-30 21:00:00  3736.0  16.666667  3977.0  3444.0\n",
       "2012-12-30 22:00:00  3444.0  17.333333  3736.0  3178.0\n",
       "2012-12-30 23:00:00  3178.0  17.000000  3444.0     NaN\n",
       "\n",
       "[8760 rows x 4 columns]"
      ]
     },
     "execution_count": 33,
     "metadata": {},
     "output_type": "execute_result"
    }
   ],
   "source": [
    "# 예측할 목적 변수 설정: 특정 컬럼을 위로 한 행씩 이동\n",
    "df[\"load+1\"] = df[\"load\"].shift(-1)\n",
    "df"
   ]
  },
  {
   "cell_type": "code",
   "execution_count": 34,
   "metadata": {},
   "outputs": [],
   "source": [
    "# 컬럼 y 를 future에서 지정한 수 만큼 위로 이동하는 함수\n",
    "def add_y_values(df_input, y, *future):\n",
    "    df = df_input.copy()\n",
    "    for i in future:\n",
    "        df[y+'+'+str(i)]=df[y].shift(-i)\n",
    "    return df"
   ]
  },
  {
   "cell_type": "code",
   "execution_count": 35,
   "metadata": {},
   "outputs": [
    {
     "data": {
      "text/html": [
       "<div>\n",
       "<style scoped>\n",
       "    .dataframe tbody tr th:only-of-type {\n",
       "        vertical-align: middle;\n",
       "    }\n",
       "\n",
       "    .dataframe tbody tr th {\n",
       "        vertical-align: top;\n",
       "    }\n",
       "\n",
       "    .dataframe thead th {\n",
       "        text-align: right;\n",
       "    }\n",
       "</style>\n",
       "<table border=\"1\" class=\"dataframe\">\n",
       "  <thead>\n",
       "    <tr style=\"text-align: right;\">\n",
       "      <th></th>\n",
       "      <th>load</th>\n",
       "      <th>temp</th>\n",
       "      <th>load-1</th>\n",
       "      <th>load+1</th>\n",
       "      <th>load+2</th>\n",
       "    </tr>\n",
       "    <tr>\n",
       "      <th>timestamp</th>\n",
       "      <th></th>\n",
       "      <th></th>\n",
       "      <th></th>\n",
       "      <th></th>\n",
       "      <th></th>\n",
       "    </tr>\n",
       "  </thead>\n",
       "  <tbody>\n",
       "    <tr>\n",
       "      <th>2012-01-01 00:00:00</th>\n",
       "      <td>2698.0</td>\n",
       "      <td>32.000000</td>\n",
       "      <td>NaN</td>\n",
       "      <td>2558.0</td>\n",
       "      <td>2444.0</td>\n",
       "    </tr>\n",
       "    <tr>\n",
       "      <th>2012-01-01 01:00:00</th>\n",
       "      <td>2558.0</td>\n",
       "      <td>32.666667</td>\n",
       "      <td>2698.0</td>\n",
       "      <td>2444.0</td>\n",
       "      <td>2402.0</td>\n",
       "    </tr>\n",
       "    <tr>\n",
       "      <th>2012-01-01 02:00:00</th>\n",
       "      <td>2444.0</td>\n",
       "      <td>30.000000</td>\n",
       "      <td>2558.0</td>\n",
       "      <td>2402.0</td>\n",
       "      <td>2403.0</td>\n",
       "    </tr>\n",
       "    <tr>\n",
       "      <th>2012-01-01 03:00:00</th>\n",
       "      <td>2402.0</td>\n",
       "      <td>31.000000</td>\n",
       "      <td>2444.0</td>\n",
       "      <td>2403.0</td>\n",
       "      <td>2453.0</td>\n",
       "    </tr>\n",
       "    <tr>\n",
       "      <th>2012-01-01 04:00:00</th>\n",
       "      <td>2403.0</td>\n",
       "      <td>32.000000</td>\n",
       "      <td>2402.0</td>\n",
       "      <td>2453.0</td>\n",
       "      <td>2560.0</td>\n",
       "    </tr>\n",
       "    <tr>\n",
       "      <th>...</th>\n",
       "      <td>...</td>\n",
       "      <td>...</td>\n",
       "      <td>...</td>\n",
       "      <td>...</td>\n",
       "      <td>...</td>\n",
       "    </tr>\n",
       "    <tr>\n",
       "      <th>2012-12-30 19:00:00</th>\n",
       "      <td>4119.0</td>\n",
       "      <td>17.666667</td>\n",
       "      <td>4253.0</td>\n",
       "      <td>3977.0</td>\n",
       "      <td>3736.0</td>\n",
       "    </tr>\n",
       "    <tr>\n",
       "      <th>2012-12-30 20:00:00</th>\n",
       "      <td>3977.0</td>\n",
       "      <td>16.666667</td>\n",
       "      <td>4119.0</td>\n",
       "      <td>3736.0</td>\n",
       "      <td>3444.0</td>\n",
       "    </tr>\n",
       "    <tr>\n",
       "      <th>2012-12-30 21:00:00</th>\n",
       "      <td>3736.0</td>\n",
       "      <td>16.666667</td>\n",
       "      <td>3977.0</td>\n",
       "      <td>3444.0</td>\n",
       "      <td>3178.0</td>\n",
       "    </tr>\n",
       "    <tr>\n",
       "      <th>2012-12-30 22:00:00</th>\n",
       "      <td>3444.0</td>\n",
       "      <td>17.333333</td>\n",
       "      <td>3736.0</td>\n",
       "      <td>3178.0</td>\n",
       "      <td>NaN</td>\n",
       "    </tr>\n",
       "    <tr>\n",
       "      <th>2012-12-30 23:00:00</th>\n",
       "      <td>3178.0</td>\n",
       "      <td>17.000000</td>\n",
       "      <td>3444.0</td>\n",
       "      <td>NaN</td>\n",
       "      <td>NaN</td>\n",
       "    </tr>\n",
       "  </tbody>\n",
       "</table>\n",
       "<p>8760 rows × 5 columns</p>\n",
       "</div>"
      ],
      "text/plain": [
       "                       load       temp  load-1  load+1  load+2\n",
       "timestamp                                                     \n",
       "2012-01-01 00:00:00  2698.0  32.000000     NaN  2558.0  2444.0\n",
       "2012-01-01 01:00:00  2558.0  32.666667  2698.0  2444.0  2402.0\n",
       "2012-01-01 02:00:00  2444.0  30.000000  2558.0  2402.0  2403.0\n",
       "2012-01-01 03:00:00  2402.0  31.000000  2444.0  2403.0  2453.0\n",
       "2012-01-01 04:00:00  2403.0  32.000000  2402.0  2453.0  2560.0\n",
       "...                     ...        ...     ...     ...     ...\n",
       "2012-12-30 19:00:00  4119.0  17.666667  4253.0  3977.0  3736.0\n",
       "2012-12-30 20:00:00  3977.0  16.666667  4119.0  3736.0  3444.0\n",
       "2012-12-30 21:00:00  3736.0  16.666667  3977.0  3444.0  3178.0\n",
       "2012-12-30 22:00:00  3444.0  17.333333  3736.0  3178.0     NaN\n",
       "2012-12-30 23:00:00  3178.0  17.000000  3444.0     NaN     NaN\n",
       "\n",
       "[8760 rows x 5 columns]"
      ]
     },
     "execution_count": 35,
     "metadata": {},
     "output_type": "execute_result"
    }
   ],
   "source": [
    "future = list(range(1,3))\n",
    "df_sh = add_y_values(df, 'load',*future)\n",
    "df_sh"
   ]
  },
  {
   "cell_type": "markdown",
   "metadata": {},
   "source": [
    "# 선형 예측 모델"
   ]
  },
  {
   "cell_type": "markdown",
   "metadata": {},
   "source": [
    "## 최적의 윈도우 크기 찾기"
   ]
  },
  {
   "cell_type": "code",
   "execution_count": 36,
   "metadata": {},
   "outputs": [],
   "source": [
    "def get_table_multi_shifts(df, y, *future, **cols):\n",
    "    df1 = add_shifts(df, **cols)\n",
    "    df2 = add_y_values(df1, y, *future)\n",
    "    return df2"
   ]
  },
  {
   "cell_type": "code",
   "execution_count": 38,
   "metadata": {},
   "outputs": [],
   "source": [
    "df = df_power.copy()\n",
    "\n",
    "cols = {'load':4}\n",
    "future = [1]\n",
    "df_sh = get_table_multi_shifts(df, 'load', *future, **cols)\n",
    "print(df_sh.shape)\n",
    "df = df_sh.dropna()\n",
    "print(df.shape)"
   ]
  },
  {
   "cell_type": "code",
   "execution_count": 40,
   "metadata": {},
   "outputs": [
    {
     "data": {
      "text/html": [
       "<div>\n",
       "<style scoped>\n",
       "    .dataframe tbody tr th:only-of-type {\n",
       "        vertical-align: middle;\n",
       "    }\n",
       "\n",
       "    .dataframe tbody tr th {\n",
       "        vertical-align: top;\n",
       "    }\n",
       "\n",
       "    .dataframe thead th {\n",
       "        text-align: right;\n",
       "    }\n",
       "</style>\n",
       "<table border=\"1\" class=\"dataframe\">\n",
       "  <thead>\n",
       "    <tr style=\"text-align: right;\">\n",
       "      <th></th>\n",
       "      <th>load</th>\n",
       "      <th>temp</th>\n",
       "      <th>load-1</th>\n",
       "      <th>load-2</th>\n",
       "      <th>load-3</th>\n",
       "      <th>load-4</th>\n",
       "      <th>load+1</th>\n",
       "    </tr>\n",
       "    <tr>\n",
       "      <th>timestamp</th>\n",
       "      <th></th>\n",
       "      <th></th>\n",
       "      <th></th>\n",
       "      <th></th>\n",
       "      <th></th>\n",
       "      <th></th>\n",
       "      <th></th>\n",
       "    </tr>\n",
       "  </thead>\n",
       "  <tbody>\n",
       "    <tr>\n",
       "      <th>2012-01-01 04:00:00</th>\n",
       "      <td>2403.0</td>\n",
       "      <td>32.000000</td>\n",
       "      <td>2402.0</td>\n",
       "      <td>2444.0</td>\n",
       "      <td>2558.0</td>\n",
       "      <td>2698.0</td>\n",
       "      <td>2453.0</td>\n",
       "    </tr>\n",
       "    <tr>\n",
       "      <th>2012-01-01 05:00:00</th>\n",
       "      <td>2453.0</td>\n",
       "      <td>31.333333</td>\n",
       "      <td>2403.0</td>\n",
       "      <td>2402.0</td>\n",
       "      <td>2444.0</td>\n",
       "      <td>2558.0</td>\n",
       "      <td>2560.0</td>\n",
       "    </tr>\n",
       "    <tr>\n",
       "      <th>2012-01-01 06:00:00</th>\n",
       "      <td>2560.0</td>\n",
       "      <td>30.000000</td>\n",
       "      <td>2453.0</td>\n",
       "      <td>2403.0</td>\n",
       "      <td>2402.0</td>\n",
       "      <td>2444.0</td>\n",
       "      <td>2719.0</td>\n",
       "    </tr>\n",
       "    <tr>\n",
       "      <th>2012-01-01 07:00:00</th>\n",
       "      <td>2719.0</td>\n",
       "      <td>29.000000</td>\n",
       "      <td>2560.0</td>\n",
       "      <td>2453.0</td>\n",
       "      <td>2403.0</td>\n",
       "      <td>2402.0</td>\n",
       "      <td>2916.0</td>\n",
       "    </tr>\n",
       "    <tr>\n",
       "      <th>2012-01-01 08:00:00</th>\n",
       "      <td>2916.0</td>\n",
       "      <td>29.000000</td>\n",
       "      <td>2719.0</td>\n",
       "      <td>2560.0</td>\n",
       "      <td>2453.0</td>\n",
       "      <td>2403.0</td>\n",
       "      <td>3105.0</td>\n",
       "    </tr>\n",
       "    <tr>\n",
       "      <th>...</th>\n",
       "      <td>...</td>\n",
       "      <td>...</td>\n",
       "      <td>...</td>\n",
       "      <td>...</td>\n",
       "      <td>...</td>\n",
       "      <td>...</td>\n",
       "      <td>...</td>\n",
       "    </tr>\n",
       "    <tr>\n",
       "      <th>2012-12-30 18:00:00</th>\n",
       "      <td>4253.0</td>\n",
       "      <td>18.333333</td>\n",
       "      <td>4304.0</td>\n",
       "      <td>4065.0</td>\n",
       "      <td>3715.0</td>\n",
       "      <td>3684.0</td>\n",
       "      <td>4119.0</td>\n",
       "    </tr>\n",
       "    <tr>\n",
       "      <th>2012-12-30 19:00:00</th>\n",
       "      <td>4119.0</td>\n",
       "      <td>17.666667</td>\n",
       "      <td>4253.0</td>\n",
       "      <td>4304.0</td>\n",
       "      <td>4065.0</td>\n",
       "      <td>3715.0</td>\n",
       "      <td>3977.0</td>\n",
       "    </tr>\n",
       "    <tr>\n",
       "      <th>2012-12-30 20:00:00</th>\n",
       "      <td>3977.0</td>\n",
       "      <td>16.666667</td>\n",
       "      <td>4119.0</td>\n",
       "      <td>4253.0</td>\n",
       "      <td>4304.0</td>\n",
       "      <td>4065.0</td>\n",
       "      <td>3736.0</td>\n",
       "    </tr>\n",
       "    <tr>\n",
       "      <th>2012-12-30 21:00:00</th>\n",
       "      <td>3736.0</td>\n",
       "      <td>16.666667</td>\n",
       "      <td>3977.0</td>\n",
       "      <td>4119.0</td>\n",
       "      <td>4253.0</td>\n",
       "      <td>4304.0</td>\n",
       "      <td>3444.0</td>\n",
       "    </tr>\n",
       "    <tr>\n",
       "      <th>2012-12-30 22:00:00</th>\n",
       "      <td>3444.0</td>\n",
       "      <td>17.333333</td>\n",
       "      <td>3736.0</td>\n",
       "      <td>3977.0</td>\n",
       "      <td>4119.0</td>\n",
       "      <td>4253.0</td>\n",
       "      <td>3178.0</td>\n",
       "    </tr>\n",
       "  </tbody>\n",
       "</table>\n",
       "<p>8755 rows × 7 columns</p>\n",
       "</div>"
      ],
      "text/plain": [
       "                       load       temp  load-1  load-2  load-3  load-4  load+1\n",
       "timestamp                                                                     \n",
       "2012-01-01 04:00:00  2403.0  32.000000  2402.0  2444.0  2558.0  2698.0  2453.0\n",
       "2012-01-01 05:00:00  2453.0  31.333333  2403.0  2402.0  2444.0  2558.0  2560.0\n",
       "2012-01-01 06:00:00  2560.0  30.000000  2453.0  2403.0  2402.0  2444.0  2719.0\n",
       "2012-01-01 07:00:00  2719.0  29.000000  2560.0  2453.0  2403.0  2402.0  2916.0\n",
       "2012-01-01 08:00:00  2916.0  29.000000  2719.0  2560.0  2453.0  2403.0  3105.0\n",
       "...                     ...        ...     ...     ...     ...     ...     ...\n",
       "2012-12-30 18:00:00  4253.0  18.333333  4304.0  4065.0  3715.0  3684.0  4119.0\n",
       "2012-12-30 19:00:00  4119.0  17.666667  4253.0  4304.0  4065.0  3715.0  3977.0\n",
       "2012-12-30 20:00:00  3977.0  16.666667  4119.0  4253.0  4304.0  4065.0  3736.0\n",
       "2012-12-30 21:00:00  3736.0  16.666667  3977.0  4119.0  4253.0  4304.0  3444.0\n",
       "2012-12-30 22:00:00  3444.0  17.333333  3736.0  3977.0  4119.0  4253.0  3178.0\n",
       "\n",
       "[8755 rows x 7 columns]"
      ]
     },
     "execution_count": 40,
     "metadata": {},
     "output_type": "execute_result"
    }
   ],
   "source": [
    "df"
   ]
  },
  {
   "cell_type": "code",
   "execution_count": 41,
   "metadata": {},
   "outputs": [],
   "source": [
    "X = df[df.columns.difference(['temp', 'load+1'])]\n",
    "y = df['load+1'].values"
   ]
  },
  {
   "cell_type": "code",
   "execution_count": 42,
   "metadata": {},
   "outputs": [
    {
     "data": {
      "text/html": [
       "<div>\n",
       "<style scoped>\n",
       "    .dataframe tbody tr th:only-of-type {\n",
       "        vertical-align: middle;\n",
       "    }\n",
       "\n",
       "    .dataframe tbody tr th {\n",
       "        vertical-align: top;\n",
       "    }\n",
       "\n",
       "    .dataframe thead th {\n",
       "        text-align: right;\n",
       "    }\n",
       "</style>\n",
       "<table border=\"1\" class=\"dataframe\">\n",
       "  <thead>\n",
       "    <tr style=\"text-align: right;\">\n",
       "      <th></th>\n",
       "      <th>load</th>\n",
       "      <th>load-1</th>\n",
       "      <th>load-2</th>\n",
       "      <th>load-3</th>\n",
       "      <th>load-4</th>\n",
       "    </tr>\n",
       "    <tr>\n",
       "      <th>timestamp</th>\n",
       "      <th></th>\n",
       "      <th></th>\n",
       "      <th></th>\n",
       "      <th></th>\n",
       "      <th></th>\n",
       "    </tr>\n",
       "  </thead>\n",
       "  <tbody>\n",
       "    <tr>\n",
       "      <th>2012-01-01 04:00:00</th>\n",
       "      <td>2403.0</td>\n",
       "      <td>2402.0</td>\n",
       "      <td>2444.0</td>\n",
       "      <td>2558.0</td>\n",
       "      <td>2698.0</td>\n",
       "    </tr>\n",
       "    <tr>\n",
       "      <th>2012-01-01 05:00:00</th>\n",
       "      <td>2453.0</td>\n",
       "      <td>2403.0</td>\n",
       "      <td>2402.0</td>\n",
       "      <td>2444.0</td>\n",
       "      <td>2558.0</td>\n",
       "    </tr>\n",
       "    <tr>\n",
       "      <th>2012-01-01 06:00:00</th>\n",
       "      <td>2560.0</td>\n",
       "      <td>2453.0</td>\n",
       "      <td>2403.0</td>\n",
       "      <td>2402.0</td>\n",
       "      <td>2444.0</td>\n",
       "    </tr>\n",
       "  </tbody>\n",
       "</table>\n",
       "</div>"
      ],
      "text/plain": [
       "                       load  load-1  load-2  load-3  load-4\n",
       "timestamp                                                  \n",
       "2012-01-01 04:00:00  2403.0  2402.0  2444.0  2558.0  2698.0\n",
       "2012-01-01 05:00:00  2453.0  2403.0  2402.0  2444.0  2558.0\n",
       "2012-01-01 06:00:00  2560.0  2453.0  2403.0  2402.0  2444.0"
      ]
     },
     "execution_count": 42,
     "metadata": {},
     "output_type": "execute_result"
    }
   ],
   "source": [
    "X[:3]"
   ]
  },
  {
   "cell_type": "markdown",
   "metadata": {},
   "source": [
    "## 모델  비교"
   ]
  },
  {
   "cell_type": "code",
   "execution_count": 43,
   "metadata": {},
   "outputs": [],
   "source": [
    "lr= LinearRegression()\n",
    "rfr = RandomForestRegressor()\n",
    "lgbm_r = LGBMRegressor()"
   ]
  },
  {
   "cell_type": "code",
   "execution_count": 44,
   "metadata": {},
   "outputs": [],
   "source": [
    "def model_run(model, X, y, shuffle=False):\n",
    "    X_train, X_test, y_train, y_test = train_test_split(X, y, \n",
    "                shuffle=shuffle, random_state=9)\n",
    "    model.fit(X_train, y_train) \n",
    "    return model.score(X_test, y_test).round(4)"
   ]
  },
  {
   "cell_type": "code",
   "execution_count": 75,
   "metadata": {},
   "outputs": [],
   "source": [
    "model = lr\n",
    "result = []\n",
    "for window_size in range(1,100,2):\n",
    "    df = df_power.copy()\n",
    "    cols = {'load': window_size}\n",
    "    future = [1]\n",
    "    df_sh = get_table_multi_shifts(df, 'load', *future, **cols)\n",
    "    df_sh = df_sh.dropna()\n",
    "    X = df_sh[df_sh.columns.difference(['temp', 'load+1'])]\n",
    "    y = df_sh['load+1'].values\n",
    "    score = model_run(model, X, y, shuffle=False)\n",
    "    result.append((window_size, score))"
   ]
  },
  {
   "cell_type": "code",
   "execution_count": 76,
   "metadata": {},
   "outputs": [
    {
     "data": {
      "image/png": "[encoded data removed]",
      "text/plain": [
       "<Figure size 576x432 with 1 Axes>"
      ]
     },
     "metadata": {
      "image/png": {
       "height": 382,
       "width": 496
      },
      "needs_background": "light"
     },
     "output_type": "display_data"
    }
   ],
   "source": [
    "df_result = pd.DataFrame(result, columns=['window_size','R2'])\n",
    "df_result.set_index('window_size', drop=True).plot(ylim=[0.9,1])\n",
    "plt.grid(axis = 'both')"
   ]
  },
  {
   "cell_type": "code",
   "execution_count": 77,
   "metadata": {},
   "outputs": [
    {
     "data": {
      "text/plain": [
       "(97, 0.9942)"
      ]
     },
     "execution_count": 77,
     "metadata": {},
     "output_type": "execute_result"
    }
   ],
   "source": [
    "df_result['window_size'][df_result[\"R2\"].idxmax()], df_result[\"R2\"].max()"
   ]
  },
  {
   "cell_type": "markdown",
   "metadata": {},
   "source": [
    "## LightGBM"
   ]
  },
  {
   "cell_type": "code",
   "execution_count": 78,
   "metadata": {},
   "outputs": [],
   "source": [
    "result = []\n",
    "model = lgbm_r\n",
    "for window_size in range(1,100,2):\n",
    "    df = df_power.copy()\n",
    "    cols = {'load': window_size}\n",
    "    future = [1]\n",
    "    df_sh = get_table_multi_shifts(df, 'load', *future, **cols)\n",
    "    df_sh = df_sh.dropna()\n",
    "    X = df_sh[df_sh.columns.difference(['temp', 'load+1'])]\n",
    "    y = df_sh['load+1'].values\n",
    "    score = model_run(model, X, y, shuffle=False)\n",
    "    result.append((window_size, score))"
   ]
  },
  {
   "cell_type": "code",
   "execution_count": 80,
   "metadata": {},
   "outputs": [
    {
     "data": {
      "image/png": "[encoded data removed]",
      "text/plain": [
       "<Figure size 576x432 with 1 Axes>"
      ]
     },
     "metadata": {
      "image/png": {
       "height": 382,
       "width": 496
      },
      "needs_background": "light"
     },
     "output_type": "display_data"
    }
   ],
   "source": [
    "df_result = pd.DataFrame(result, columns=['window_size','R2'])\n",
    "df_result.set_index('window_size', drop=True).plot(ylim=[0.9,1])\n",
    "plt.grid(axis = 'both')"
   ]
  },
  {
   "cell_type": "code",
   "execution_count": 81,
   "metadata": {},
   "outputs": [
    {
     "data": {
      "text/plain": [
       "(25, 0.9904)"
      ]
     },
     "execution_count": 81,
     "metadata": {},
     "output_type": "execute_result"
    }
   ],
   "source": [
    "df_result['window_size'][df_result[\"R2\"].idxmax()], df_result[\"R2\"].max()"
   ]
  },
  {
   "cell_type": "markdown",
   "metadata": {},
   "source": [
    "## 먼 미래 예측\n",
    "- 윈도우 크기는 25로 고정\n",
    "- 미래 24시간 후까지 예측하는 성능을 비교"
   ]
  },
  {
   "cell_type": "code",
   "execution_count": 103,
   "metadata": {},
   "outputs": [],
   "source": [
    "model = lr\n",
    "window_size = 25\n",
    "result = []\n",
    "for step in range(1,25):\n",
    "    df = df_power.copy()\n",
    "    cols = {'load': window_size}\n",
    "    future = [step]\n",
    "    df_sh = get_table_multi_shifts(df, 'load', *future, **cols)\n",
    "    df_sh = df_sh.dropna()\n",
    "    X = df_sh[df_sh.columns.difference(['temp', 'load+'+str(step)])]\n",
    "    y = df_sh['load+'+str(step)].values\n",
    "    score = model_run(model, X, y, shuffle=False)\n",
    "    result.append((step, score))"
   ]
  },
  {
   "cell_type": "code",
   "execution_count": 104,
   "metadata": {},
   "outputs": [
    {
     "data": {
      "image/png": "[encoded data removed]",
      "text/plain": [
       "<Figure size 576x432 with 1 Axes>"
      ]
     },
     "metadata": {
      "image/png": {
       "height": 382,
       "width": 510
      },
      "needs_background": "light"
     },
     "output_type": "display_data"
    }
   ],
   "source": [
    "df_result = pd.DataFrame(result, columns=['multi_steps','R2'])\n",
    "df_result.set_index('multi_steps', drop=True).plot(marker='o', ylim=[0.8,1])\n",
    "plt.grid(axis = 'both')"
   ]
  },
  {
   "cell_type": "code",
   "execution_count": 105,
   "metadata": {},
   "outputs": [],
   "source": [
    "model = lgbm_r\n",
    "window_size = 25\n",
    "result = []\n",
    "for step in range(1,25):\n",
    "    df = df_power.copy()\n",
    "    cols = {'load': window_size}\n",
    "    future = [step]\n",
    "    df_sh = get_table_multi_shifts(df, 'load', *future, **cols)\n",
    "    df_sh = df_sh.dropna()\n",
    "    X = df_sh[df_sh.columns.difference(['temp', 'load+'+str(step)])]\n",
    "    y = df_sh['load+'+str(step)].values\n",
    "    score = model_run(model, X, y, shuffle=False)\n",
    "    result.append((step, score))"
   ]
  },
  {
   "cell_type": "code",
   "execution_count": 106,
   "metadata": {},
   "outputs": [
    {
     "data": {
      "image/png": "[encoded data removed]",
      "text/plain": [
       "<Figure size 576x432 with 1 Axes>"
      ]
     },
     "metadata": {
      "image/png": {
       "height": 382,
       "width": 510
      },
      "needs_background": "light"
     },
     "output_type": "display_data"
    }
   ],
   "source": [
    "df_result = pd.DataFrame(result, columns=['multi_steps','R2'])\n",
    "df_result.set_index('multi_steps', drop=True).plot(marker='o', ylim=[0.8,1])\n",
    "plt.grid(axis = 'both')"
   ]
  },
  {
   "cell_type": "markdown",
   "metadata": {},
   "source": [
    "# 시간 단위가 아니라 날자 단위로 예측"
   ]
  },
  {
   "cell_type": "markdown",
   "metadata": {},
   "source": [
    "- 하루 단위 데이터로 다운 샘플링 하는 방법\n",
    "- 하루의 전력 사용량 합계를 사용하겠다"
   ]
  },
  {
   "cell_type": "code",
   "execution_count": 90,
   "metadata": {},
   "outputs": [
    {
     "data": {
      "text/html": [
       "<div>\n",
       "<style scoped>\n",
       "    .dataframe tbody tr th:only-of-type {\n",
       "        vertical-align: middle;\n",
       "    }\n",
       "\n",
       "    .dataframe tbody tr th {\n",
       "        vertical-align: top;\n",
       "    }\n",
       "\n",
       "    .dataframe thead th {\n",
       "        text-align: right;\n",
       "    }\n",
       "</style>\n",
       "<table border=\"1\" class=\"dataframe\">\n",
       "  <thead>\n",
       "    <tr style=\"text-align: right;\">\n",
       "      <th></th>\n",
       "      <th>load</th>\n",
       "      <th>temp</th>\n",
       "    </tr>\n",
       "    <tr>\n",
       "      <th>timestamp</th>\n",
       "      <th></th>\n",
       "      <th></th>\n",
       "    </tr>\n",
       "  </thead>\n",
       "  <tbody>\n",
       "    <tr>\n",
       "      <th>2012-01-01 00:00:00</th>\n",
       "      <td>2698.0</td>\n",
       "      <td>32.000000</td>\n",
       "    </tr>\n",
       "    <tr>\n",
       "      <th>2012-01-01 01:00:00</th>\n",
       "      <td>2558.0</td>\n",
       "      <td>32.666667</td>\n",
       "    </tr>\n",
       "    <tr>\n",
       "      <th>2012-01-01 02:00:00</th>\n",
       "      <td>2444.0</td>\n",
       "      <td>30.000000</td>\n",
       "    </tr>\n",
       "  </tbody>\n",
       "</table>\n",
       "</div>"
      ],
      "text/plain": [
       "                       load       temp\n",
       "timestamp                             \n",
       "2012-01-01 00:00:00  2698.0  32.000000\n",
       "2012-01-01 01:00:00  2558.0  32.666667\n",
       "2012-01-01 02:00:00  2444.0  30.000000"
      ]
     },
     "execution_count": 90,
     "metadata": {},
     "output_type": "execute_result"
    }
   ],
   "source": [
    "power[:3]"
   ]
  },
  {
   "cell_type": "code",
   "execution_count": 91,
   "metadata": {},
   "outputs": [
    {
     "name": "stdout",
     "output_type": "stream",
     "text": [
      "(1096, 2)\n"
     ]
    },
    {
     "data": {
      "text/html": [
       "<div>\n",
       "<style scoped>\n",
       "    .dataframe tbody tr th:only-of-type {\n",
       "        vertical-align: middle;\n",
       "    }\n",
       "\n",
       "    .dataframe tbody tr th {\n",
       "        vertical-align: top;\n",
       "    }\n",
       "\n",
       "    .dataframe thead th {\n",
       "        text-align: right;\n",
       "    }\n",
       "</style>\n",
       "<table border=\"1\" class=\"dataframe\">\n",
       "  <thead>\n",
       "    <tr style=\"text-align: right;\">\n",
       "      <th></th>\n",
       "      <th>load</th>\n",
       "      <th>temp</th>\n",
       "    </tr>\n",
       "    <tr>\n",
       "      <th>timestamp</th>\n",
       "      <th></th>\n",
       "      <th></th>\n",
       "    </tr>\n",
       "  </thead>\n",
       "  <tbody>\n",
       "    <tr>\n",
       "      <th>2012-01-01</th>\n",
       "      <td>71562.0</td>\n",
       "      <td>906.333333</td>\n",
       "    </tr>\n",
       "    <tr>\n",
       "      <th>2012-01-02</th>\n",
       "      <td>76841.0</td>\n",
       "      <td>897.666667</td>\n",
       "    </tr>\n",
       "    <tr>\n",
       "      <th>2012-01-03</th>\n",
       "      <td>87887.0</td>\n",
       "      <td>418.333333</td>\n",
       "    </tr>\n",
       "  </tbody>\n",
       "</table>\n",
       "</div>"
      ],
      "text/plain": [
       "               load        temp\n",
       "timestamp                      \n",
       "2012-01-01  71562.0  906.333333\n",
       "2012-01-02  76841.0  897.666667\n",
       "2012-01-03  87887.0  418.333333"
      ]
     },
     "execution_count": 91,
     "metadata": {},
     "output_type": "execute_result"
    }
   ],
   "source": [
    "df_down = power.resample('D').sum()\n",
    "print(df_down.shape)\n",
    "df_down[:3]"
   ]
  },
  {
   "cell_type": "markdown",
   "metadata": {},
   "source": [
    "- 기온은 시간단위의 합이 아니라 하루 평균치를 사용하겠다."
   ]
  },
  {
   "cell_type": "code",
   "execution_count": 92,
   "metadata": {},
   "outputs": [
    {
     "data": {
      "text/html": [
       "<div>\n",
       "<style scoped>\n",
       "    .dataframe tbody tr th:only-of-type {\n",
       "        vertical-align: middle;\n",
       "    }\n",
       "\n",
       "    .dataframe tbody tr th {\n",
       "        vertical-align: top;\n",
       "    }\n",
       "\n",
       "    .dataframe thead th {\n",
       "        text-align: right;\n",
       "    }\n",
       "</style>\n",
       "<table border=\"1\" class=\"dataframe\">\n",
       "  <thead>\n",
       "    <tr style=\"text-align: right;\">\n",
       "      <th></th>\n",
       "      <th>load</th>\n",
       "      <th>temp</th>\n",
       "    </tr>\n",
       "    <tr>\n",
       "      <th>timestamp</th>\n",
       "      <th></th>\n",
       "      <th></th>\n",
       "    </tr>\n",
       "  </thead>\n",
       "  <tbody>\n",
       "    <tr>\n",
       "      <th>2012-01-01</th>\n",
       "      <td>71562.0</td>\n",
       "      <td>37.763889</td>\n",
       "    </tr>\n",
       "    <tr>\n",
       "      <th>2012-01-02</th>\n",
       "      <td>76841.0</td>\n",
       "      <td>37.402778</td>\n",
       "    </tr>\n",
       "    <tr>\n",
       "      <th>2012-01-03</th>\n",
       "      <td>87887.0</td>\n",
       "      <td>17.430556</td>\n",
       "    </tr>\n",
       "    <tr>\n",
       "      <th>2012-01-04</th>\n",
       "      <td>92168.0</td>\n",
       "      <td>13.111111</td>\n",
       "    </tr>\n",
       "    <tr>\n",
       "      <th>2012-01-05</th>\n",
       "      <td>88096.0</td>\n",
       "      <td>24.875000</td>\n",
       "    </tr>\n",
       "  </tbody>\n",
       "</table>\n",
       "</div>"
      ],
      "text/plain": [
       "               load       temp\n",
       "timestamp                     \n",
       "2012-01-01  71562.0  37.763889\n",
       "2012-01-02  76841.0  37.402778\n",
       "2012-01-03  87887.0  17.430556\n",
       "2012-01-04  92168.0  13.111111\n",
       "2012-01-05  88096.0  24.875000"
      ]
     },
     "execution_count": 92,
     "metadata": {},
     "output_type": "execute_result"
    }
   ],
   "source": [
    "df_down['temp'] = power.temp.resample('D').mean()\n",
    "df_down[:5]"
   ]
  },
  {
   "cell_type": "markdown",
   "metadata": {},
   "source": [
    "## 단변수 예측 (전력량만 사용하는 경우)"
   ]
  },
  {
   "cell_type": "code",
   "execution_count": 94,
   "metadata": {},
   "outputs": [
    {
     "name": "stdout",
     "output_type": "stream",
     "text": [
      "(1096, 2)\n"
     ]
    },
    {
     "data": {
      "text/html": [
       "<div>\n",
       "<style scoped>\n",
       "    .dataframe tbody tr th:only-of-type {\n",
       "        vertical-align: middle;\n",
       "    }\n",
       "\n",
       "    .dataframe tbody tr th {\n",
       "        vertical-align: top;\n",
       "    }\n",
       "\n",
       "    .dataframe thead th {\n",
       "        text-align: right;\n",
       "    }\n",
       "</style>\n",
       "<table border=\"1\" class=\"dataframe\">\n",
       "  <thead>\n",
       "    <tr style=\"text-align: right;\">\n",
       "      <th></th>\n",
       "      <th>load</th>\n",
       "      <th>temp</th>\n",
       "    </tr>\n",
       "    <tr>\n",
       "      <th>timestamp</th>\n",
       "      <th></th>\n",
       "      <th></th>\n",
       "    </tr>\n",
       "  </thead>\n",
       "  <tbody>\n",
       "    <tr>\n",
       "      <th>2012-01-01</th>\n",
       "      <td>71562.0</td>\n",
       "      <td>37.763889</td>\n",
       "    </tr>\n",
       "    <tr>\n",
       "      <th>2012-01-02</th>\n",
       "      <td>76841.0</td>\n",
       "      <td>37.402778</td>\n",
       "    </tr>\n",
       "    <tr>\n",
       "      <th>2012-01-03</th>\n",
       "      <td>87887.0</td>\n",
       "      <td>17.430556</td>\n",
       "    </tr>\n",
       "  </tbody>\n",
       "</table>\n",
       "</div>"
      ],
      "text/plain": [
       "               load       temp\n",
       "timestamp                     \n",
       "2012-01-01  71562.0  37.763889\n",
       "2012-01-02  76841.0  37.402778\n",
       "2012-01-03  87887.0  17.430556"
      ]
     },
     "execution_count": 94,
     "metadata": {},
     "output_type": "execute_result"
    }
   ],
   "source": [
    "# 일단위 시계열 데이터\n",
    "df = df_down.copy()\n",
    "print(df.shape)\n",
    "df[:3]"
   ]
  },
  {
   "cell_type": "markdown",
   "metadata": {},
   "source": [
    "## 시계열 모델"
   ]
  },
  {
   "cell_type": "code",
   "execution_count": 181,
   "metadata": {},
   "outputs": [],
   "source": [
    "model = lr\n",
    "result = []\n",
    "for window_size in range(1,100,2):\n",
    "    df = df_down.copy()\n",
    "    cols = {'load': window_size}\n",
    "    future = [1]\n",
    "    df_sh = get_table_multi_shifts(df, 'load', *future, **cols)\n",
    "    df_sh = df_sh.dropna()\n",
    "    X = df_sh[df_sh.columns.difference(['temp', 'load+1'])]\n",
    "    y = df_sh['load+1'].values\n",
    "    score = model_run(model, X, y, shuffle=False)\n",
    "    result.append((window_size, score))"
   ]
  },
  {
   "cell_type": "code",
   "execution_count": 182,
   "metadata": {},
   "outputs": [
    {
     "data": {
      "image/png": "[encoded data removed]",
      "text/plain": [
       "<Figure size 576x432 with 1 Axes>"
      ]
     },
     "metadata": {
      "image/png": {
       "height": 382,
       "width": 488
      },
      "needs_background": "light"
     },
     "output_type": "display_data"
    }
   ],
   "source": [
    "df_result = pd.DataFrame(result, columns=['window_size','R2'])\n",
    "df_result.set_index('window_size', drop=True).plot(ylim=[0.5,1])\n",
    "plt.grid(axis = 'both')"
   ]
  },
  {
   "cell_type": "code",
   "execution_count": 98,
   "metadata": {},
   "outputs": [
    {
     "data": {
      "text/plain": [
       "(57, 0.8107)"
      ]
     },
     "execution_count": 98,
     "metadata": {},
     "output_type": "execute_result"
    }
   ],
   "source": [
    "df_result['window_size'][df_result[\"R2\"].idxmax()], df_result[\"R2\"].max()"
   ]
  },
  {
   "cell_type": "markdown",
   "metadata": {},
   "source": [
    "## LightGBM"
   ]
  },
  {
   "cell_type": "code",
   "execution_count": 99,
   "metadata": {},
   "outputs": [],
   "source": [
    "result = []\n",
    "model = lgbm_r\n",
    "for window_size in range(1,100,2):\n",
    "    df = df_down.copy()\n",
    "    cols = {'load': window_size}\n",
    "    future = [1]\n",
    "    df_sh = get_table_multi_shifts(df, 'load', *future, **cols)\n",
    "    df_sh = df_sh.dropna()\n",
    "    X = df_sh[df_sh.columns.difference(['temp', 'load+1'])]\n",
    "    y = df_sh['load+1'].values\n",
    "    score = model_run(model, X, y, shuffle=False)\n",
    "    result.append((window_size, score))"
   ]
  },
  {
   "cell_type": "code",
   "execution_count": 101,
   "metadata": {},
   "outputs": [
    {
     "data": {
      "image/png": "[encoded data removed]",
      "text/plain": [
       "<Figure size 576x432 with 1 Axes>"
      ]
     },
     "metadata": {
      "image/png": {
       "height": 382,
       "width": 488
      },
      "needs_background": "light"
     },
     "output_type": "display_data"
    }
   ],
   "source": [
    "df_result = pd.DataFrame(result, columns=['window_size','R2'])\n",
    "df_result.set_index('window_size', drop=True).plot(ylim=[0.5,1])\n",
    "plt.grid(axis = 'both')"
   ]
  },
  {
   "cell_type": "code",
   "execution_count": 102,
   "metadata": {},
   "outputs": [
    {
     "data": {
      "text/plain": [
       "(63, 0.7575)"
      ]
     },
     "execution_count": 102,
     "metadata": {},
     "output_type": "execute_result"
    }
   ],
   "source": [
    "df_result['window_size'][df_result[\"R2\"].idxmax()], df_result[\"R2\"].max()"
   ]
  },
  {
   "cell_type": "markdown",
   "metadata": {},
   "source": [
    "## 먼 미래 예측\n",
    "- 윈도우 크기는 40으로 고정\n",
    "- 미래 24시간 후까지 예측하는 성능을 비교"
   ]
  },
  {
   "cell_type": "code",
   "execution_count": 107,
   "metadata": {},
   "outputs": [],
   "source": [
    "model = lr\n",
    "window_size = 40\n",
    "result = []\n",
    "for step in range(1,25):\n",
    "    df = df_down.copy()\n",
    "    cols = {'load': window_size}\n",
    "    future = [step]\n",
    "    df_sh = get_table_multi_shifts(df, 'load', *future, **cols)\n",
    "    df_sh = df_sh.dropna()\n",
    "    X = df_sh[df_sh.columns.difference(['temp', 'load+'+str(step)])]\n",
    "    y = df_sh['load+'+str(step)].values\n",
    "    score = model_run(model, X, y, shuffle=False)\n",
    "    result.append((step, score))"
   ]
  },
  {
   "cell_type": "code",
   "execution_count": 110,
   "metadata": {},
   "outputs": [
    {
     "data": {
      "image/png": "[encoded data removed]",
      "text/plain": [
       "<Figure size 576x432 with 1 Axes>"
      ]
     },
     "metadata": {
      "image/png": {
       "height": 382,
       "width": 493
      },
      "needs_background": "light"
     },
     "output_type": "display_data"
    }
   ],
   "source": [
    "df_result = pd.DataFrame(result, columns=['multi_steps','R2'])\n",
    "df_result.set_index('multi_steps', drop=True).plot(marker='o', ylim=[0.3,1])\n",
    "plt.grid(axis = 'both')"
   ]
  },
  {
   "cell_type": "code",
   "execution_count": 111,
   "metadata": {},
   "outputs": [],
   "source": [
    "model = lgbm_r\n",
    "window_size = 40\n",
    "result = []\n",
    "for step in range(1,25):\n",
    "    df = df_down.copy()\n",
    "    cols = {'load': window_size}\n",
    "    future = [step]\n",
    "    df_sh = get_table_multi_shifts(df, 'load', *future, **cols)\n",
    "    df_sh = df_sh.dropna()\n",
    "    X = df_sh[df_sh.columns.difference(['temp', 'load+'+str(step)])]\n",
    "    y = df_sh['load+'+str(step)].values\n",
    "    score = model_run(model, X, y, shuffle=False)\n",
    "    result.append((step, score))"
   ]
  },
  {
   "cell_type": "code",
   "execution_count": 113,
   "metadata": {},
   "outputs": [
    {
     "data": {
      "image/png": "[encoded data removed]",
      "text/plain": [
       "<Figure size 576x432 with 1 Axes>"
      ]
     },
     "metadata": {
      "image/png": {
       "height": 382,
       "width": 493
      },
      "needs_background": "light"
     },
     "output_type": "display_data"
    }
   ],
   "source": [
    "df_result = pd.DataFrame(result, columns=['multi_steps','R2'])\n",
    "df_result.set_index('multi_steps', drop=True).plot(marker='o', ylim=[0.3,1])\n",
    "plt.grid(axis = 'both')"
   ]
  },
  {
   "cell_type": "markdown",
   "metadata": {},
   "source": [
    "# 다중변수 예측\n",
    "\n",
    "- 자신의 과거 값과 다른 특성을 같이 사용하는 방법\n",
    "\n",
    "## 다중 출력 예측\n",
    "\n",
    "- 과거 15일치 전력사용량과 5일간의 날씨를 입력으로 사용하는 경우\n",
    "- 미래 3일간 전력사용량을 예측"
   ]
  },
  {
   "cell_type": "code",
   "execution_count": 114,
   "metadata": {},
   "outputs": [
    {
     "data": {
      "text/html": [
       "<div>\n",
       "<style scoped>\n",
       "    .dataframe tbody tr th:only-of-type {\n",
       "        vertical-align: middle;\n",
       "    }\n",
       "\n",
       "    .dataframe tbody tr th {\n",
       "        vertical-align: top;\n",
       "    }\n",
       "\n",
       "    .dataframe thead th {\n",
       "        text-align: right;\n",
       "    }\n",
       "</style>\n",
       "<table border=\"1\" class=\"dataframe\">\n",
       "  <thead>\n",
       "    <tr style=\"text-align: right;\">\n",
       "      <th></th>\n",
       "      <th>load</th>\n",
       "      <th>temp</th>\n",
       "    </tr>\n",
       "    <tr>\n",
       "      <th>timestamp</th>\n",
       "      <th></th>\n",
       "      <th></th>\n",
       "    </tr>\n",
       "  </thead>\n",
       "  <tbody>\n",
       "    <tr>\n",
       "      <th>2012-01-01</th>\n",
       "      <td>71562.0</td>\n",
       "      <td>37.763889</td>\n",
       "    </tr>\n",
       "    <tr>\n",
       "      <th>2012-01-02</th>\n",
       "      <td>76841.0</td>\n",
       "      <td>37.402778</td>\n",
       "    </tr>\n",
       "    <tr>\n",
       "      <th>2012-01-03</th>\n",
       "      <td>87887.0</td>\n",
       "      <td>17.430556</td>\n",
       "    </tr>\n",
       "    <tr>\n",
       "      <th>2012-01-04</th>\n",
       "      <td>92168.0</td>\n",
       "      <td>13.111111</td>\n",
       "    </tr>\n",
       "    <tr>\n",
       "      <th>2012-01-05</th>\n",
       "      <td>88096.0</td>\n",
       "      <td>24.875000</td>\n",
       "    </tr>\n",
       "  </tbody>\n",
       "</table>\n",
       "</div>"
      ],
      "text/plain": [
       "               load       temp\n",
       "timestamp                     \n",
       "2012-01-01  71562.0  37.763889\n",
       "2012-01-02  76841.0  37.402778\n",
       "2012-01-03  87887.0  17.430556\n",
       "2012-01-04  92168.0  13.111111\n",
       "2012-01-05  88096.0  24.875000"
      ]
     },
     "execution_count": 114,
     "metadata": {},
     "output_type": "execute_result"
    }
   ],
   "source": [
    "df_down[:5]"
   ]
  },
  {
   "cell_type": "markdown",
   "metadata": {},
   "source": [
    "- 모든 특성을 사용하고 내일의 전력 사용량을 예측하는 경우"
   ]
  },
  {
   "cell_type": "markdown",
   "metadata": {},
   "source": [
    "- 모델과 데이터를 주고 학습 수행후 성능을 평가하는 함수\n",
    "- 디폴트로 shuffle=False 로 설정함 (시계열 데이터 이므로 과거 데이터로만 학습)"
   ]
  },
  {
   "cell_type": "code",
   "execution_count": 115,
   "metadata": {},
   "outputs": [
    {
     "name": "stdout",
     "output_type": "stream",
     "text": [
      "(1096, 59)\n",
      "(1049, 59)\n"
     ]
    }
   ],
   "source": [
    "df = df_down.copy()\n",
    "\n",
    "cols = {'load':40, 'temp':10}\n",
    "future = list(range(1,8))\n",
    "df_sh = get_table_multi_shifts(df, 'load', *future, **cols)\n",
    "print(df_sh.shape)\n",
    "df = df_sh.dropna()\n",
    "print(df.shape)"
   ]
  },
  {
   "cell_type": "code",
   "execution_count": 116,
   "metadata": {},
   "outputs": [
    {
     "data": {
      "text/html": [
       "<div>\n",
       "<style scoped>\n",
       "    .dataframe tbody tr th:only-of-type {\n",
       "        vertical-align: middle;\n",
       "    }\n",
       "\n",
       "    .dataframe tbody tr th {\n",
       "        vertical-align: top;\n",
       "    }\n",
       "\n",
       "    .dataframe thead th {\n",
       "        text-align: right;\n",
       "    }\n",
       "</style>\n",
       "<table border=\"1\" class=\"dataframe\">\n",
       "  <thead>\n",
       "    <tr style=\"text-align: right;\">\n",
       "      <th>timestamp</th>\n",
       "      <th>2012-02-10</th>\n",
       "      <th>2012-02-11</th>\n",
       "      <th>2012-02-12</th>\n",
       "    </tr>\n",
       "  </thead>\n",
       "  <tbody>\n",
       "    <tr>\n",
       "      <th>load</th>\n",
       "      <td>78609.000000</td>\n",
       "      <td>75922.000000</td>\n",
       "      <td>81470.000000</td>\n",
       "    </tr>\n",
       "    <tr>\n",
       "      <th>temp</th>\n",
       "      <td>32.222222</td>\n",
       "      <td>27.263889</td>\n",
       "      <td>12.708333</td>\n",
       "    </tr>\n",
       "    <tr>\n",
       "      <th>load-1</th>\n",
       "      <td>80213.000000</td>\n",
       "      <td>78609.000000</td>\n",
       "      <td>75922.000000</td>\n",
       "    </tr>\n",
       "    <tr>\n",
       "      <th>load-2</th>\n",
       "      <td>83039.000000</td>\n",
       "      <td>80213.000000</td>\n",
       "      <td>78609.000000</td>\n",
       "    </tr>\n",
       "    <tr>\n",
       "      <th>load-3</th>\n",
       "      <td>80065.000000</td>\n",
       "      <td>83039.000000</td>\n",
       "      <td>80213.000000</td>\n",
       "    </tr>\n",
       "    <tr>\n",
       "      <th>load-4</th>\n",
       "      <td>79866.000000</td>\n",
       "      <td>80065.000000</td>\n",
       "      <td>83039.000000</td>\n",
       "    </tr>\n",
       "    <tr>\n",
       "      <th>load-5</th>\n",
       "      <td>78345.000000</td>\n",
       "      <td>79866.000000</td>\n",
       "      <td>80065.000000</td>\n",
       "    </tr>\n",
       "    <tr>\n",
       "      <th>load-6</th>\n",
       "      <td>78043.000000</td>\n",
       "      <td>78345.000000</td>\n",
       "      <td>79866.000000</td>\n",
       "    </tr>\n",
       "    <tr>\n",
       "      <th>load-7</th>\n",
       "      <td>82814.000000</td>\n",
       "      <td>78043.000000</td>\n",
       "      <td>78345.000000</td>\n",
       "    </tr>\n",
       "    <tr>\n",
       "      <th>load-8</th>\n",
       "      <td>81645.000000</td>\n",
       "      <td>82814.000000</td>\n",
       "      <td>78043.000000</td>\n",
       "    </tr>\n",
       "    <tr>\n",
       "      <th>load-9</th>\n",
       "      <td>81283.000000</td>\n",
       "      <td>81645.000000</td>\n",
       "      <td>82814.000000</td>\n",
       "    </tr>\n",
       "    <tr>\n",
       "      <th>load-10</th>\n",
       "      <td>84069.000000</td>\n",
       "      <td>81283.000000</td>\n",
       "      <td>81645.000000</td>\n",
       "    </tr>\n",
       "    <tr>\n",
       "      <th>load-11</th>\n",
       "      <td>83643.000000</td>\n",
       "      <td>84069.000000</td>\n",
       "      <td>81283.000000</td>\n",
       "    </tr>\n",
       "    <tr>\n",
       "      <th>load-12</th>\n",
       "      <td>75625.000000</td>\n",
       "      <td>83643.000000</td>\n",
       "      <td>84069.000000</td>\n",
       "    </tr>\n",
       "    <tr>\n",
       "      <th>load-13</th>\n",
       "      <td>74928.000000</td>\n",
       "      <td>75625.000000</td>\n",
       "      <td>83643.000000</td>\n",
       "    </tr>\n",
       "    <tr>\n",
       "      <th>load-14</th>\n",
       "      <td>81654.000000</td>\n",
       "      <td>74928.000000</td>\n",
       "      <td>75625.000000</td>\n",
       "    </tr>\n",
       "    <tr>\n",
       "      <th>load-15</th>\n",
       "      <td>81906.000000</td>\n",
       "      <td>81654.000000</td>\n",
       "      <td>74928.000000</td>\n",
       "    </tr>\n",
       "    <tr>\n",
       "      <th>load-16</th>\n",
       "      <td>81543.000000</td>\n",
       "      <td>81906.000000</td>\n",
       "      <td>81654.000000</td>\n",
       "    </tr>\n",
       "    <tr>\n",
       "      <th>load-17</th>\n",
       "      <td>79804.000000</td>\n",
       "      <td>81543.000000</td>\n",
       "      <td>81906.000000</td>\n",
       "    </tr>\n",
       "    <tr>\n",
       "      <th>load-18</th>\n",
       "      <td>84221.000000</td>\n",
       "      <td>79804.000000</td>\n",
       "      <td>81543.000000</td>\n",
       "    </tr>\n",
       "    <tr>\n",
       "      <th>load-19</th>\n",
       "      <td>82897.000000</td>\n",
       "      <td>84221.000000</td>\n",
       "      <td>79804.000000</td>\n",
       "    </tr>\n",
       "    <tr>\n",
       "      <th>load-20</th>\n",
       "      <td>85869.000000</td>\n",
       "      <td>82897.000000</td>\n",
       "      <td>84221.000000</td>\n",
       "    </tr>\n",
       "    <tr>\n",
       "      <th>load-21</th>\n",
       "      <td>87129.000000</td>\n",
       "      <td>85869.000000</td>\n",
       "      <td>82897.000000</td>\n",
       "    </tr>\n",
       "    <tr>\n",
       "      <th>load-22</th>\n",
       "      <td>90190.000000</td>\n",
       "      <td>87129.000000</td>\n",
       "      <td>85869.000000</td>\n",
       "    </tr>\n",
       "    <tr>\n",
       "      <th>load-23</th>\n",
       "      <td>84192.000000</td>\n",
       "      <td>90190.000000</td>\n",
       "      <td>87129.000000</td>\n",
       "    </tr>\n",
       "    <tr>\n",
       "      <th>load-24</th>\n",
       "      <td>83799.000000</td>\n",
       "      <td>84192.000000</td>\n",
       "      <td>90190.000000</td>\n",
       "    </tr>\n",
       "    <tr>\n",
       "      <th>load-25</th>\n",
       "      <td>91228.000000</td>\n",
       "      <td>83799.000000</td>\n",
       "      <td>84192.000000</td>\n",
       "    </tr>\n",
       "    <tr>\n",
       "      <th>load-26</th>\n",
       "      <td>88319.000000</td>\n",
       "      <td>91228.000000</td>\n",
       "      <td>83799.000000</td>\n",
       "    </tr>\n",
       "    <tr>\n",
       "      <th>load-27</th>\n",
       "      <td>84300.000000</td>\n",
       "      <td>88319.000000</td>\n",
       "      <td>91228.000000</td>\n",
       "    </tr>\n",
       "    <tr>\n",
       "      <th>load-28</th>\n",
       "      <td>83503.000000</td>\n",
       "      <td>84300.000000</td>\n",
       "      <td>88319.000000</td>\n",
       "    </tr>\n",
       "    <tr>\n",
       "      <th>load-29</th>\n",
       "      <td>84824.000000</td>\n",
       "      <td>83503.000000</td>\n",
       "      <td>84300.000000</td>\n",
       "    </tr>\n",
       "    <tr>\n",
       "      <th>load-30</th>\n",
       "      <td>85021.000000</td>\n",
       "      <td>84824.000000</td>\n",
       "      <td>83503.000000</td>\n",
       "    </tr>\n",
       "    <tr>\n",
       "      <th>load-31</th>\n",
       "      <td>85158.000000</td>\n",
       "      <td>85021.000000</td>\n",
       "      <td>84824.000000</td>\n",
       "    </tr>\n",
       "    <tr>\n",
       "      <th>load-32</th>\n",
       "      <td>85818.000000</td>\n",
       "      <td>85158.000000</td>\n",
       "      <td>85021.000000</td>\n",
       "    </tr>\n",
       "    <tr>\n",
       "      <th>load-33</th>\n",
       "      <td>77767.000000</td>\n",
       "      <td>85818.000000</td>\n",
       "      <td>85158.000000</td>\n",
       "    </tr>\n",
       "    <tr>\n",
       "      <th>load-34</th>\n",
       "      <td>76869.000000</td>\n",
       "      <td>77767.000000</td>\n",
       "      <td>85818.000000</td>\n",
       "    </tr>\n",
       "    <tr>\n",
       "      <th>load-35</th>\n",
       "      <td>85591.000000</td>\n",
       "      <td>76869.000000</td>\n",
       "      <td>77767.000000</td>\n",
       "    </tr>\n",
       "    <tr>\n",
       "      <th>load-36</th>\n",
       "      <td>88096.000000</td>\n",
       "      <td>85591.000000</td>\n",
       "      <td>76869.000000</td>\n",
       "    </tr>\n",
       "    <tr>\n",
       "      <th>load-37</th>\n",
       "      <td>92168.000000</td>\n",
       "      <td>88096.000000</td>\n",
       "      <td>85591.000000</td>\n",
       "    </tr>\n",
       "    <tr>\n",
       "      <th>load-38</th>\n",
       "      <td>87887.000000</td>\n",
       "      <td>92168.000000</td>\n",
       "      <td>88096.000000</td>\n",
       "    </tr>\n",
       "    <tr>\n",
       "      <th>load-39</th>\n",
       "      <td>76841.000000</td>\n",
       "      <td>87887.000000</td>\n",
       "      <td>92168.000000</td>\n",
       "    </tr>\n",
       "    <tr>\n",
       "      <th>load-40</th>\n",
       "      <td>71562.000000</td>\n",
       "      <td>76841.000000</td>\n",
       "      <td>87887.000000</td>\n",
       "    </tr>\n",
       "    <tr>\n",
       "      <th>temp-1</th>\n",
       "      <td>30.361111</td>\n",
       "      <td>32.222222</td>\n",
       "      <td>27.263889</td>\n",
       "    </tr>\n",
       "    <tr>\n",
       "      <th>temp-2</th>\n",
       "      <td>24.305556</td>\n",
       "      <td>30.361111</td>\n",
       "      <td>32.222222</td>\n",
       "    </tr>\n",
       "    <tr>\n",
       "      <th>temp-3</th>\n",
       "      <td>31.416667</td>\n",
       "      <td>24.305556</td>\n",
       "      <td>30.361111</td>\n",
       "    </tr>\n",
       "    <tr>\n",
       "      <th>temp-4</th>\n",
       "      <td>35.513889</td>\n",
       "      <td>31.416667</td>\n",
       "      <td>24.305556</td>\n",
       "    </tr>\n",
       "    <tr>\n",
       "      <th>temp-5</th>\n",
       "      <td>21.750000</td>\n",
       "      <td>35.513889</td>\n",
       "      <td>31.416667</td>\n",
       "    </tr>\n",
       "    <tr>\n",
       "      <th>temp-6</th>\n",
       "      <td>26.055556</td>\n",
       "      <td>21.750000</td>\n",
       "      <td>35.513889</td>\n",
       "    </tr>\n",
       "    <tr>\n",
       "      <th>temp-7</th>\n",
       "      <td>25.291667</td>\n",
       "      <td>26.055556</td>\n",
       "      <td>21.750000</td>\n",
       "    </tr>\n",
       "    <tr>\n",
       "      <th>temp-8</th>\n",
       "      <td>29.319444</td>\n",
       "      <td>25.291667</td>\n",
       "      <td>26.055556</td>\n",
       "    </tr>\n",
       "    <tr>\n",
       "      <th>temp-9</th>\n",
       "      <td>33.875000</td>\n",
       "      <td>29.319444</td>\n",
       "      <td>25.291667</td>\n",
       "    </tr>\n",
       "    <tr>\n",
       "      <th>temp-10</th>\n",
       "      <td>26.236111</td>\n",
       "      <td>33.875000</td>\n",
       "      <td>29.319444</td>\n",
       "    </tr>\n",
       "    <tr>\n",
       "      <th>load+1</th>\n",
       "      <td>75922.000000</td>\n",
       "      <td>81470.000000</td>\n",
       "      <td>85615.000000</td>\n",
       "    </tr>\n",
       "    <tr>\n",
       "      <th>load+2</th>\n",
       "      <td>81470.000000</td>\n",
       "      <td>85615.000000</td>\n",
       "      <td>81383.000000</td>\n",
       "    </tr>\n",
       "    <tr>\n",
       "      <th>load+3</th>\n",
       "      <td>85615.000000</td>\n",
       "      <td>81383.000000</td>\n",
       "      <td>79858.000000</td>\n",
       "    </tr>\n",
       "    <tr>\n",
       "      <th>load+4</th>\n",
       "      <td>81383.000000</td>\n",
       "      <td>79858.000000</td>\n",
       "      <td>78716.000000</td>\n",
       "    </tr>\n",
       "    <tr>\n",
       "      <th>load+5</th>\n",
       "      <td>79858.000000</td>\n",
       "      <td>78716.000000</td>\n",
       "      <td>77652.000000</td>\n",
       "    </tr>\n",
       "    <tr>\n",
       "      <th>load+6</th>\n",
       "      <td>78716.000000</td>\n",
       "      <td>77652.000000</td>\n",
       "      <td>74391.000000</td>\n",
       "    </tr>\n",
       "    <tr>\n",
       "      <th>load+7</th>\n",
       "      <td>77652.000000</td>\n",
       "      <td>74391.000000</td>\n",
       "      <td>74512.000000</td>\n",
       "    </tr>\n",
       "  </tbody>\n",
       "</table>\n",
       "</div>"
      ],
      "text/plain": [
       "timestamp    2012-02-10    2012-02-11    2012-02-12\n",
       "load       78609.000000  75922.000000  81470.000000\n",
       "temp          32.222222     27.263889     12.708333\n",
       "load-1     80213.000000  78609.000000  75922.000000\n",
       "load-2     83039.000000  80213.000000  78609.000000\n",
       "load-3     80065.000000  83039.000000  80213.000000\n",
       "load-4     79866.000000  80065.000000  83039.000000\n",
       "load-5     78345.000000  79866.000000  80065.000000\n",
       "load-6     78043.000000  78345.000000  79866.000000\n",
       "load-7     82814.000000  78043.000000  78345.000000\n",
       "load-8     81645.000000  82814.000000  78043.000000\n",
       "load-9     81283.000000  81645.000000  82814.000000\n",
       "load-10    84069.000000  81283.000000  81645.000000\n",
       "load-11    83643.000000  84069.000000  81283.000000\n",
       "load-12    75625.000000  83643.000000  84069.000000\n",
       "load-13    74928.000000  75625.000000  83643.000000\n",
       "load-14    81654.000000  74928.000000  75625.000000\n",
       "load-15    81906.000000  81654.000000  74928.000000\n",
       "load-16    81543.000000  81906.000000  81654.000000\n",
       "load-17    79804.000000  81543.000000  81906.000000\n",
       "load-18    84221.000000  79804.000000  81543.000000\n",
       "load-19    82897.000000  84221.000000  79804.000000\n",
       "load-20    85869.000000  82897.000000  84221.000000\n",
       "load-21    87129.000000  85869.000000  82897.000000\n",
       "load-22    90190.000000  87129.000000  85869.000000\n",
       "load-23    84192.000000  90190.000000  87129.000000\n",
       "load-24    83799.000000  84192.000000  90190.000000\n",
       "load-25    91228.000000  83799.000000  84192.000000\n",
       "load-26    88319.000000  91228.000000  83799.000000\n",
       "load-27    84300.000000  88319.000000  91228.000000\n",
       "load-28    83503.000000  84300.000000  88319.000000\n",
       "load-29    84824.000000  83503.000000  84300.000000\n",
       "load-30    85021.000000  84824.000000  83503.000000\n",
       "load-31    85158.000000  85021.000000  84824.000000\n",
       "load-32    85818.000000  85158.000000  85021.000000\n",
       "load-33    77767.000000  85818.000000  85158.000000\n",
       "load-34    76869.000000  77767.000000  85818.000000\n",
       "load-35    85591.000000  76869.000000  77767.000000\n",
       "load-36    88096.000000  85591.000000  76869.000000\n",
       "load-37    92168.000000  88096.000000  85591.000000\n",
       "load-38    87887.000000  92168.000000  88096.000000\n",
       "load-39    76841.000000  87887.000000  92168.000000\n",
       "load-40    71562.000000  76841.000000  87887.000000\n",
       "temp-1        30.361111     32.222222     27.263889\n",
       "temp-2        24.305556     30.361111     32.222222\n",
       "temp-3        31.416667     24.305556     30.361111\n",
       "temp-4        35.513889     31.416667     24.305556\n",
       "temp-5        21.750000     35.513889     31.416667\n",
       "temp-6        26.055556     21.750000     35.513889\n",
       "temp-7        25.291667     26.055556     21.750000\n",
       "temp-8        29.319444     25.291667     26.055556\n",
       "temp-9        33.875000     29.319444     25.291667\n",
       "temp-10       26.236111     33.875000     29.319444\n",
       "load+1     75922.000000  81470.000000  85615.000000\n",
       "load+2     81470.000000  85615.000000  81383.000000\n",
       "load+3     85615.000000  81383.000000  79858.000000\n",
       "load+4     81383.000000  79858.000000  78716.000000\n",
       "load+5     79858.000000  78716.000000  77652.000000\n",
       "load+6     78716.000000  77652.000000  74391.000000\n",
       "load+7     77652.000000  74391.000000  74512.000000"
      ]
     },
     "execution_count": 116,
     "metadata": {},
     "output_type": "execute_result"
    }
   ],
   "source": [
    "df[:3].T\n"
   ]
  },
  {
   "cell_type": "code",
   "execution_count": 121,
   "metadata": {},
   "outputs": [
    {
     "data": {
      "text/plain": [
       "Index(['load', 'temp', 'load-1', 'load-2', 'load-3', 'load-4', 'load-5',\n",
       "       'load-6', 'load-7', 'load-8', 'load-9', 'load-10', 'load-11', 'load-12',\n",
       "       'load-13', 'load-14', 'load-15', 'load-16', 'load-17', 'load-18',\n",
       "       'load-19', 'load-20', 'load-21', 'load-22', 'load-23', 'load-24',\n",
       "       'load-25', 'load-26', 'load-27', 'load-28', 'load-29', 'load-30',\n",
       "       'load-31', 'load-32', 'load-33', 'load-34', 'load-35', 'load-36',\n",
       "       'load-37', 'load-38', 'load-39', 'load-40', 'temp-1', 'temp-2',\n",
       "       'temp-3', 'temp-4', 'temp-5', 'temp-6', 'temp-7', 'temp-8', 'temp-9',\n",
       "       'temp-10', 'load+1', 'load+2', 'load+3', 'load+4', 'load+5', 'load+6',\n",
       "       'load+7'],\n",
       "      dtype='object')"
      ]
     },
     "execution_count": 121,
     "metadata": {},
     "output_type": "execute_result"
    }
   ],
   "source": [
    "df.columns"
   ]
  },
  {
   "cell_type": "code",
   "execution_count": 118,
   "metadata": {},
   "outputs": [
    {
     "name": "stdout",
     "output_type": "stream",
     "text": [
      "['load+1', 'load+2', 'load+3', 'load+4', 'load+5', 'load+6', 'load+7']\n"
     ]
    }
   ],
   "source": [
    "targets = ['load+'+str(i) for i in range(1,8)]\n",
    "print(targets)"
   ]
  },
  {
   "cell_type": "code",
   "execution_count": 122,
   "metadata": {},
   "outputs": [
    {
     "data": {
      "text/plain": [
       "Index(['load', 'load-1', 'load-10', 'load-11', 'load-12', 'load-13', 'load-14',\n",
       "       'load-15', 'load-16', 'load-17', 'load-18', 'load-19', 'load-2',\n",
       "       'load-20', 'load-21', 'load-22', 'load-23', 'load-24', 'load-25',\n",
       "       'load-26', 'load-27', 'load-28', 'load-29', 'load-3', 'load-30',\n",
       "       'load-31', 'load-32', 'load-33', 'load-34', 'load-35', 'load-36',\n",
       "       'load-37', 'load-38', 'load-39', 'load-4', 'load-40', 'load-5',\n",
       "       'load-6', 'load-7', 'load-8', 'load-9', 'temp', 'temp-1', 'temp-10',\n",
       "       'temp-2', 'temp-3', 'temp-4', 'temp-5', 'temp-6', 'temp-7', 'temp-8',\n",
       "       'temp-9'],\n",
       "      dtype='object')"
      ]
     },
     "execution_count": 122,
     "metadata": {},
     "output_type": "execute_result"
    }
   ],
   "source": [
    "features = df.columns.difference(targets)\n",
    "features"
   ]
  },
  {
   "cell_type": "code",
   "execution_count": 123,
   "metadata": {
    "collapsed": true
   },
   "outputs": [
    {
     "data": {
      "text/html": [
       "<div>\n",
       "<style scoped>\n",
       "    .dataframe tbody tr th:only-of-type {\n",
       "        vertical-align: middle;\n",
       "    }\n",
       "\n",
       "    .dataframe tbody tr th {\n",
       "        vertical-align: top;\n",
       "    }\n",
       "\n",
       "    .dataframe thead th {\n",
       "        text-align: right;\n",
       "    }\n",
       "</style>\n",
       "<table border=\"1\" class=\"dataframe\">\n",
       "  <thead>\n",
       "    <tr style=\"text-align: right;\">\n",
       "      <th>timestamp</th>\n",
       "      <th>2012-02-10</th>\n",
       "      <th>2012-02-11</th>\n",
       "      <th>2012-02-12</th>\n",
       "    </tr>\n",
       "  </thead>\n",
       "  <tbody>\n",
       "    <tr>\n",
       "      <th>load</th>\n",
       "      <td>78609.000000</td>\n",
       "      <td>75922.000000</td>\n",
       "      <td>81470.000000</td>\n",
       "    </tr>\n",
       "    <tr>\n",
       "      <th>load-1</th>\n",
       "      <td>80213.000000</td>\n",
       "      <td>78609.000000</td>\n",
       "      <td>75922.000000</td>\n",
       "    </tr>\n",
       "    <tr>\n",
       "      <th>load-10</th>\n",
       "      <td>84069.000000</td>\n",
       "      <td>81283.000000</td>\n",
       "      <td>81645.000000</td>\n",
       "    </tr>\n",
       "    <tr>\n",
       "      <th>load-11</th>\n",
       "      <td>83643.000000</td>\n",
       "      <td>84069.000000</td>\n",
       "      <td>81283.000000</td>\n",
       "    </tr>\n",
       "    <tr>\n",
       "      <th>load-12</th>\n",
       "      <td>75625.000000</td>\n",
       "      <td>83643.000000</td>\n",
       "      <td>84069.000000</td>\n",
       "    </tr>\n",
       "    <tr>\n",
       "      <th>load-13</th>\n",
       "      <td>74928.000000</td>\n",
       "      <td>75625.000000</td>\n",
       "      <td>83643.000000</td>\n",
       "    </tr>\n",
       "    <tr>\n",
       "      <th>load-14</th>\n",
       "      <td>81654.000000</td>\n",
       "      <td>74928.000000</td>\n",
       "      <td>75625.000000</td>\n",
       "    </tr>\n",
       "    <tr>\n",
       "      <th>load-15</th>\n",
       "      <td>81906.000000</td>\n",
       "      <td>81654.000000</td>\n",
       "      <td>74928.000000</td>\n",
       "    </tr>\n",
       "    <tr>\n",
       "      <th>load-16</th>\n",
       "      <td>81543.000000</td>\n",
       "      <td>81906.000000</td>\n",
       "      <td>81654.000000</td>\n",
       "    </tr>\n",
       "    <tr>\n",
       "      <th>load-17</th>\n",
       "      <td>79804.000000</td>\n",
       "      <td>81543.000000</td>\n",
       "      <td>81906.000000</td>\n",
       "    </tr>\n",
       "    <tr>\n",
       "      <th>load-18</th>\n",
       "      <td>84221.000000</td>\n",
       "      <td>79804.000000</td>\n",
       "      <td>81543.000000</td>\n",
       "    </tr>\n",
       "    <tr>\n",
       "      <th>load-19</th>\n",
       "      <td>82897.000000</td>\n",
       "      <td>84221.000000</td>\n",
       "      <td>79804.000000</td>\n",
       "    </tr>\n",
       "    <tr>\n",
       "      <th>load-2</th>\n",
       "      <td>83039.000000</td>\n",
       "      <td>80213.000000</td>\n",
       "      <td>78609.000000</td>\n",
       "    </tr>\n",
       "    <tr>\n",
       "      <th>load-20</th>\n",
       "      <td>85869.000000</td>\n",
       "      <td>82897.000000</td>\n",
       "      <td>84221.000000</td>\n",
       "    </tr>\n",
       "    <tr>\n",
       "      <th>load-21</th>\n",
       "      <td>87129.000000</td>\n",
       "      <td>85869.000000</td>\n",
       "      <td>82897.000000</td>\n",
       "    </tr>\n",
       "    <tr>\n",
       "      <th>load-22</th>\n",
       "      <td>90190.000000</td>\n",
       "      <td>87129.000000</td>\n",
       "      <td>85869.000000</td>\n",
       "    </tr>\n",
       "    <tr>\n",
       "      <th>load-23</th>\n",
       "      <td>84192.000000</td>\n",
       "      <td>90190.000000</td>\n",
       "      <td>87129.000000</td>\n",
       "    </tr>\n",
       "    <tr>\n",
       "      <th>load-24</th>\n",
       "      <td>83799.000000</td>\n",
       "      <td>84192.000000</td>\n",
       "      <td>90190.000000</td>\n",
       "    </tr>\n",
       "    <tr>\n",
       "      <th>load-25</th>\n",
       "      <td>91228.000000</td>\n",
       "      <td>83799.000000</td>\n",
       "      <td>84192.000000</td>\n",
       "    </tr>\n",
       "    <tr>\n",
       "      <th>load-26</th>\n",
       "      <td>88319.000000</td>\n",
       "      <td>91228.000000</td>\n",
       "      <td>83799.000000</td>\n",
       "    </tr>\n",
       "    <tr>\n",
       "      <th>load-27</th>\n",
       "      <td>84300.000000</td>\n",
       "      <td>88319.000000</td>\n",
       "      <td>91228.000000</td>\n",
       "    </tr>\n",
       "    <tr>\n",
       "      <th>load-28</th>\n",
       "      <td>83503.000000</td>\n",
       "      <td>84300.000000</td>\n",
       "      <td>88319.000000</td>\n",
       "    </tr>\n",
       "    <tr>\n",
       "      <th>load-29</th>\n",
       "      <td>84824.000000</td>\n",
       "      <td>83503.000000</td>\n",
       "      <td>84300.000000</td>\n",
       "    </tr>\n",
       "    <tr>\n",
       "      <th>load-3</th>\n",
       "      <td>80065.000000</td>\n",
       "      <td>83039.000000</td>\n",
       "      <td>80213.000000</td>\n",
       "    </tr>\n",
       "    <tr>\n",
       "      <th>load-30</th>\n",
       "      <td>85021.000000</td>\n",
       "      <td>84824.000000</td>\n",
       "      <td>83503.000000</td>\n",
       "    </tr>\n",
       "    <tr>\n",
       "      <th>load-31</th>\n",
       "      <td>85158.000000</td>\n",
       "      <td>85021.000000</td>\n",
       "      <td>84824.000000</td>\n",
       "    </tr>\n",
       "    <tr>\n",
       "      <th>load-32</th>\n",
       "      <td>85818.000000</td>\n",
       "      <td>85158.000000</td>\n",
       "      <td>85021.000000</td>\n",
       "    </tr>\n",
       "    <tr>\n",
       "      <th>load-33</th>\n",
       "      <td>77767.000000</td>\n",
       "      <td>85818.000000</td>\n",
       "      <td>85158.000000</td>\n",
       "    </tr>\n",
       "    <tr>\n",
       "      <th>load-34</th>\n",
       "      <td>76869.000000</td>\n",
       "      <td>77767.000000</td>\n",
       "      <td>85818.000000</td>\n",
       "    </tr>\n",
       "    <tr>\n",
       "      <th>load-35</th>\n",
       "      <td>85591.000000</td>\n",
       "      <td>76869.000000</td>\n",
       "      <td>77767.000000</td>\n",
       "    </tr>\n",
       "    <tr>\n",
       "      <th>load-36</th>\n",
       "      <td>88096.000000</td>\n",
       "      <td>85591.000000</td>\n",
       "      <td>76869.000000</td>\n",
       "    </tr>\n",
       "    <tr>\n",
       "      <th>load-37</th>\n",
       "      <td>92168.000000</td>\n",
       "      <td>88096.000000</td>\n",
       "      <td>85591.000000</td>\n",
       "    </tr>\n",
       "    <tr>\n",
       "      <th>load-38</th>\n",
       "      <td>87887.000000</td>\n",
       "      <td>92168.000000</td>\n",
       "      <td>88096.000000</td>\n",
       "    </tr>\n",
       "    <tr>\n",
       "      <th>load-39</th>\n",
       "      <td>76841.000000</td>\n",
       "      <td>87887.000000</td>\n",
       "      <td>92168.000000</td>\n",
       "    </tr>\n",
       "    <tr>\n",
       "      <th>load-4</th>\n",
       "      <td>79866.000000</td>\n",
       "      <td>80065.000000</td>\n",
       "      <td>83039.000000</td>\n",
       "    </tr>\n",
       "    <tr>\n",
       "      <th>load-40</th>\n",
       "      <td>71562.000000</td>\n",
       "      <td>76841.000000</td>\n",
       "      <td>87887.000000</td>\n",
       "    </tr>\n",
       "    <tr>\n",
       "      <th>load-5</th>\n",
       "      <td>78345.000000</td>\n",
       "      <td>79866.000000</td>\n",
       "      <td>80065.000000</td>\n",
       "    </tr>\n",
       "    <tr>\n",
       "      <th>load-6</th>\n",
       "      <td>78043.000000</td>\n",
       "      <td>78345.000000</td>\n",
       "      <td>79866.000000</td>\n",
       "    </tr>\n",
       "    <tr>\n",
       "      <th>load-7</th>\n",
       "      <td>82814.000000</td>\n",
       "      <td>78043.000000</td>\n",
       "      <td>78345.000000</td>\n",
       "    </tr>\n",
       "    <tr>\n",
       "      <th>load-8</th>\n",
       "      <td>81645.000000</td>\n",
       "      <td>82814.000000</td>\n",
       "      <td>78043.000000</td>\n",
       "    </tr>\n",
       "    <tr>\n",
       "      <th>load-9</th>\n",
       "      <td>81283.000000</td>\n",
       "      <td>81645.000000</td>\n",
       "      <td>82814.000000</td>\n",
       "    </tr>\n",
       "    <tr>\n",
       "      <th>temp</th>\n",
       "      <td>32.222222</td>\n",
       "      <td>27.263889</td>\n",
       "      <td>12.708333</td>\n",
       "    </tr>\n",
       "    <tr>\n",
       "      <th>temp-1</th>\n",
       "      <td>30.361111</td>\n",
       "      <td>32.222222</td>\n",
       "      <td>27.263889</td>\n",
       "    </tr>\n",
       "    <tr>\n",
       "      <th>temp-10</th>\n",
       "      <td>26.236111</td>\n",
       "      <td>33.875000</td>\n",
       "      <td>29.319444</td>\n",
       "    </tr>\n",
       "    <tr>\n",
       "      <th>temp-2</th>\n",
       "      <td>24.305556</td>\n",
       "      <td>30.361111</td>\n",
       "      <td>32.222222</td>\n",
       "    </tr>\n",
       "    <tr>\n",
       "      <th>temp-3</th>\n",
       "      <td>31.416667</td>\n",
       "      <td>24.305556</td>\n",
       "      <td>30.361111</td>\n",
       "    </tr>\n",
       "    <tr>\n",
       "      <th>temp-4</th>\n",
       "      <td>35.513889</td>\n",
       "      <td>31.416667</td>\n",
       "      <td>24.305556</td>\n",
       "    </tr>\n",
       "    <tr>\n",
       "      <th>temp-5</th>\n",
       "      <td>21.750000</td>\n",
       "      <td>35.513889</td>\n",
       "      <td>31.416667</td>\n",
       "    </tr>\n",
       "    <tr>\n",
       "      <th>temp-6</th>\n",
       "      <td>26.055556</td>\n",
       "      <td>21.750000</td>\n",
       "      <td>35.513889</td>\n",
       "    </tr>\n",
       "    <tr>\n",
       "      <th>temp-7</th>\n",
       "      <td>25.291667</td>\n",
       "      <td>26.055556</td>\n",
       "      <td>21.750000</td>\n",
       "    </tr>\n",
       "    <tr>\n",
       "      <th>temp-8</th>\n",
       "      <td>29.319444</td>\n",
       "      <td>25.291667</td>\n",
       "      <td>26.055556</td>\n",
       "    </tr>\n",
       "    <tr>\n",
       "      <th>temp-9</th>\n",
       "      <td>33.875000</td>\n",
       "      <td>29.319444</td>\n",
       "      <td>25.291667</td>\n",
       "    </tr>\n",
       "  </tbody>\n",
       "</table>\n",
       "</div>"
      ],
      "text/plain": [
       "timestamp    2012-02-10    2012-02-11    2012-02-12\n",
       "load       78609.000000  75922.000000  81470.000000\n",
       "load-1     80213.000000  78609.000000  75922.000000\n",
       "load-10    84069.000000  81283.000000  81645.000000\n",
       "load-11    83643.000000  84069.000000  81283.000000\n",
       "load-12    75625.000000  83643.000000  84069.000000\n",
       "load-13    74928.000000  75625.000000  83643.000000\n",
       "load-14    81654.000000  74928.000000  75625.000000\n",
       "load-15    81906.000000  81654.000000  74928.000000\n",
       "load-16    81543.000000  81906.000000  81654.000000\n",
       "load-17    79804.000000  81543.000000  81906.000000\n",
       "load-18    84221.000000  79804.000000  81543.000000\n",
       "load-19    82897.000000  84221.000000  79804.000000\n",
       "load-2     83039.000000  80213.000000  78609.000000\n",
       "load-20    85869.000000  82897.000000  84221.000000\n",
       "load-21    87129.000000  85869.000000  82897.000000\n",
       "load-22    90190.000000  87129.000000  85869.000000\n",
       "load-23    84192.000000  90190.000000  87129.000000\n",
       "load-24    83799.000000  84192.000000  90190.000000\n",
       "load-25    91228.000000  83799.000000  84192.000000\n",
       "load-26    88319.000000  91228.000000  83799.000000\n",
       "load-27    84300.000000  88319.000000  91228.000000\n",
       "load-28    83503.000000  84300.000000  88319.000000\n",
       "load-29    84824.000000  83503.000000  84300.000000\n",
       "load-3     80065.000000  83039.000000  80213.000000\n",
       "load-30    85021.000000  84824.000000  83503.000000\n",
       "load-31    85158.000000  85021.000000  84824.000000\n",
       "load-32    85818.000000  85158.000000  85021.000000\n",
       "load-33    77767.000000  85818.000000  85158.000000\n",
       "load-34    76869.000000  77767.000000  85818.000000\n",
       "load-35    85591.000000  76869.000000  77767.000000\n",
       "load-36    88096.000000  85591.000000  76869.000000\n",
       "load-37    92168.000000  88096.000000  85591.000000\n",
       "load-38    87887.000000  92168.000000  88096.000000\n",
       "load-39    76841.000000  87887.000000  92168.000000\n",
       "load-4     79866.000000  80065.000000  83039.000000\n",
       "load-40    71562.000000  76841.000000  87887.000000\n",
       "load-5     78345.000000  79866.000000  80065.000000\n",
       "load-6     78043.000000  78345.000000  79866.000000\n",
       "load-7     82814.000000  78043.000000  78345.000000\n",
       "load-8     81645.000000  82814.000000  78043.000000\n",
       "load-9     81283.000000  81645.000000  82814.000000\n",
       "temp          32.222222     27.263889     12.708333\n",
       "temp-1        30.361111     32.222222     27.263889\n",
       "temp-10       26.236111     33.875000     29.319444\n",
       "temp-2        24.305556     30.361111     32.222222\n",
       "temp-3        31.416667     24.305556     30.361111\n",
       "temp-4        35.513889     31.416667     24.305556\n",
       "temp-5        21.750000     35.513889     31.416667\n",
       "temp-6        26.055556     21.750000     35.513889\n",
       "temp-7        25.291667     26.055556     21.750000\n",
       "temp-8        29.319444     25.291667     26.055556\n",
       "temp-9        33.875000     29.319444     25.291667"
      ]
     },
     "execution_count": 123,
     "metadata": {},
     "output_type": "execute_result"
    }
   ],
   "source": [
    "X = df[features]"
   ]
  },
  {
   "cell_type": "markdown",
   "metadata": {},
   "source": [
    "### 선형, 랜덤포레스트, 부스팅 비교"
   ]
  },
  {
   "cell_type": "code",
   "execution_count": 126,
   "metadata": {
    "collapsed": true
   },
   "outputs": [
    {
     "ename": "NameError",
     "evalue": "name 'res' is not defined",
     "output_type": "error",
     "traceback": [
      "\u001b[0;31m---------------------------------------------------------------------------\u001b[0m",
      "\u001b[0;31mNameError\u001b[0m                                 Traceback (most recent call last)",
      "\u001b[0;32m<ipython-input-126-b3a40692496d>\u001b[0m in \u001b[0;36m<module>\u001b[0;34m\u001b[0m\n\u001b[1;32m      5\u001b[0m         \u001b[0mr2\u001b[0m \u001b[0;34m=\u001b[0m \u001b[0mmodel_run\u001b[0m\u001b[0;34m(\u001b[0m\u001b[0mmodel\u001b[0m\u001b[0;34m,\u001b[0m \u001b[0mX\u001b[0m\u001b[0;34m,\u001b[0m \u001b[0my\u001b[0m\u001b[0;34m,\u001b[0m \u001b[0mshuffle\u001b[0m\u001b[0;34m=\u001b[0m\u001b[0;32mFalse\u001b[0m\u001b[0;34m)\u001b[0m\u001b[0;34m\u001b[0m\u001b[0;34m\u001b[0m\u001b[0m\n\u001b[1;32m      6\u001b[0m         \u001b[0mresult\u001b[0m\u001b[0;34m.\u001b[0m\u001b[0mappend\u001b[0m\u001b[0;34m(\u001b[0m\u001b[0;34m(\u001b[0m\u001b[0mmodel\u001b[0m\u001b[0;34m,\u001b[0m \u001b[0mi\u001b[0m\u001b[0;34m,\u001b[0m \u001b[0mr2\u001b[0m\u001b[0;34m)\u001b[0m\u001b[0;34m)\u001b[0m\u001b[0;34m\u001b[0m\u001b[0;34m\u001b[0m\u001b[0m\n\u001b[0;32m----> 7\u001b[0;31m \u001b[0mres\u001b[0m\u001b[0;34m\u001b[0m\u001b[0;34m\u001b[0m\u001b[0m\n\u001b[0m",
      "\u001b[0;31mNameError\u001b[0m: name 'res' is not defined"
     ]
    }
   ],
   "source": [
    "result = []\n",
    "for model in [lr, rfr, lgbm_r]:\n",
    "    for i in range(1,8):\n",
    "        y = df['load+'+str(i)]\n",
    "        r2 = model_run(model, X, y, shuffle=False)\n",
    "        result.append((model, i, r2))"
   ]
  },
  {
   "cell_type": "code",
   "execution_count": 169,
   "metadata": {},
   "outputs": [
    {
     "data": {
      "text/html": [
       "<div>\n",
       "<style scoped>\n",
       "    .dataframe tbody tr th:only-of-type {\n",
       "        vertical-align: middle;\n",
       "    }\n",
       "\n",
       "    .dataframe tbody tr th {\n",
       "        vertical-align: top;\n",
       "    }\n",
       "\n",
       "    .dataframe thead th {\n",
       "        text-align: right;\n",
       "    }\n",
       "</style>\n",
       "<table border=\"1\" class=\"dataframe\">\n",
       "  <thead>\n",
       "    <tr style=\"text-align: right;\">\n",
       "      <th></th>\n",
       "      <th>model</th>\n",
       "      <th>steps</th>\n",
       "      <th>r2</th>\n",
       "    </tr>\n",
       "  </thead>\n",
       "  <tbody>\n",
       "    <tr>\n",
       "      <th>0</th>\n",
       "      <td>Linear</td>\n",
       "      <td>1</td>\n",
       "      <td>0.8009</td>\n",
       "    </tr>\n",
       "    <tr>\n",
       "      <th>1</th>\n",
       "      <td>Linear</td>\n",
       "      <td>2</td>\n",
       "      <td>0.6278</td>\n",
       "    </tr>\n",
       "    <tr>\n",
       "      <th>2</th>\n",
       "      <td>Linear</td>\n",
       "      <td>3</td>\n",
       "      <td>0.5657</td>\n",
       "    </tr>\n",
       "    <tr>\n",
       "      <th>3</th>\n",
       "      <td>Linear</td>\n",
       "      <td>4</td>\n",
       "      <td>0.5438</td>\n",
       "    </tr>\n",
       "    <tr>\n",
       "      <th>4</th>\n",
       "      <td>Linear</td>\n",
       "      <td>5</td>\n",
       "      <td>0.5398</td>\n",
       "    </tr>\n",
       "    <tr>\n",
       "      <th>5</th>\n",
       "      <td>Linear</td>\n",
       "      <td>6</td>\n",
       "      <td>0.5485</td>\n",
       "    </tr>\n",
       "    <tr>\n",
       "      <th>6</th>\n",
       "      <td>Linear</td>\n",
       "      <td>7</td>\n",
       "      <td>0.5463</td>\n",
       "    </tr>\n",
       "    <tr>\n",
       "      <th>7</th>\n",
       "      <td>RandomForest</td>\n",
       "      <td>1</td>\n",
       "      <td>0.7439</td>\n",
       "    </tr>\n",
       "    <tr>\n",
       "      <th>8</th>\n",
       "      <td>RandomForest</td>\n",
       "      <td>2</td>\n",
       "      <td>0.5989</td>\n",
       "    </tr>\n",
       "    <tr>\n",
       "      <th>9</th>\n",
       "      <td>RandomForest</td>\n",
       "      <td>3</td>\n",
       "      <td>0.5491</td>\n",
       "    </tr>\n",
       "  </tbody>\n",
       "</table>\n",
       "</div>"
      ],
      "text/plain": [
       "          model  steps      r2\n",
       "0        Linear      1  0.8009\n",
       "1        Linear      2  0.6278\n",
       "2        Linear      3  0.5657\n",
       "3        Linear      4  0.5438\n",
       "4        Linear      5  0.5398\n",
       "5        Linear      6  0.5485\n",
       "6        Linear      7  0.5463\n",
       "7  RandomForest      1  0.7439\n",
       "8  RandomForest      2  0.5989\n",
       "9  RandomForest      3  0.5491"
      ]
     },
     "execution_count": 169,
     "metadata": {},
     "output_type": "execute_result"
    }
   ],
   "source": [
    "df_r = pd.DataFrame(result, columns=['model','steps','r2'])\n",
    "models = 7*['Linear']+7*['RandomForest']+7*['LGBM']\n",
    "df_r['model'] = models\n",
    "df_r[:10]"
   ]
  },
  {
   "cell_type": "code",
   "execution_count": 175,
   "metadata": {
    "scrolled": false
   },
   "outputs": [
    {
     "data": {
      "text/plain": [
       "<matplotlib.legend.Legend at 0x7ff3e0348fd0>"
      ]
     },
     "execution_count": 175,
     "metadata": {},
     "output_type": "execute_result"
    },
    {
     "data": {
      "image/png": "[encoded data removed]",
      "text/plain": [
       "<Figure size 576x432 with 1 Axes>"
      ]
     },
     "metadata": {
      "image/png": {
       "height": 360,
       "width": 496
      },
      "needs_background": "light"
     },
     "output_type": "display_data"
    }
   ],
   "source": [
    "for model, group in df_r.groupby('model'):\n",
    "    plt.plot(group['steps'], group['r2'], \n",
    "             marker='.', label=model)\n",
    "plt.legend()"
   ]
  },
  {
   "cell_type": "markdown",
   "metadata": {},
   "source": [
    "## 랜덤 포레스트 다중 예측\n",
    "- 랜덤 포레스트는 한번에 여러개의 y 값을 예측하는 모델을 지원한다\n",
    "- 아래는 y에 7개의 값을 한번에 예측하도록 했다"
   ]
  },
  {
   "cell_type": "code",
   "execution_count": 179,
   "metadata": {},
   "outputs": [
    {
     "data": {
      "text/html": [
       "<div>\n",
       "<style scoped>\n",
       "    .dataframe tbody tr th:only-of-type {\n",
       "        vertical-align: middle;\n",
       "    }\n",
       "\n",
       "    .dataframe tbody tr th {\n",
       "        vertical-align: top;\n",
       "    }\n",
       "\n",
       "    .dataframe thead th {\n",
       "        text-align: right;\n",
       "    }\n",
       "</style>\n",
       "<table border=\"1\" class=\"dataframe\">\n",
       "  <thead>\n",
       "    <tr style=\"text-align: right;\">\n",
       "      <th></th>\n",
       "      <th>load+1</th>\n",
       "      <th>load+2</th>\n",
       "      <th>load+3</th>\n",
       "      <th>load+4</th>\n",
       "      <th>load+5</th>\n",
       "      <th>load+6</th>\n",
       "      <th>load+7</th>\n",
       "    </tr>\n",
       "    <tr>\n",
       "      <th>timestamp</th>\n",
       "      <th></th>\n",
       "      <th></th>\n",
       "      <th></th>\n",
       "      <th></th>\n",
       "      <th></th>\n",
       "      <th></th>\n",
       "      <th></th>\n",
       "    </tr>\n",
       "  </thead>\n",
       "  <tbody>\n",
       "    <tr>\n",
       "      <th>2012-02-10</th>\n",
       "      <td>75922.0</td>\n",
       "      <td>81470.0</td>\n",
       "      <td>85615.0</td>\n",
       "      <td>81383.0</td>\n",
       "      <td>79858.0</td>\n",
       "      <td>78716.0</td>\n",
       "      <td>77652.0</td>\n",
       "    </tr>\n",
       "    <tr>\n",
       "      <th>2012-02-11</th>\n",
       "      <td>81470.0</td>\n",
       "      <td>85615.0</td>\n",
       "      <td>81383.0</td>\n",
       "      <td>79858.0</td>\n",
       "      <td>78716.0</td>\n",
       "      <td>77652.0</td>\n",
       "      <td>74391.0</td>\n",
       "    </tr>\n",
       "    <tr>\n",
       "      <th>2012-02-12</th>\n",
       "      <td>85615.0</td>\n",
       "      <td>81383.0</td>\n",
       "      <td>79858.0</td>\n",
       "      <td>78716.0</td>\n",
       "      <td>77652.0</td>\n",
       "      <td>74391.0</td>\n",
       "      <td>74512.0</td>\n",
       "    </tr>\n",
       "  </tbody>\n",
       "</table>\n",
       "</div>"
      ],
      "text/plain": [
       "             load+1   load+2   load+3   load+4   load+5   load+6   load+7\n",
       "timestamp                                                                \n",
       "2012-02-10  75922.0  81470.0  85615.0  81383.0  79858.0  78716.0  77652.0\n",
       "2012-02-11  81470.0  85615.0  81383.0  79858.0  78716.0  77652.0  74391.0\n",
       "2012-02-12  85615.0  81383.0  79858.0  78716.0  77652.0  74391.0  74512.0"
      ]
     },
     "execution_count": 179,
     "metadata": {},
     "output_type": "execute_result"
    }
   ],
   "source": [
    "y = df[targets]\n",
    "y[:3]"
   ]
  },
  {
   "cell_type": "code",
   "execution_count": 178,
   "metadata": {},
   "outputs": [
    {
     "data": {
      "text/plain": [
       "array([0.68934712, 0.53581278, 0.47985978, 0.46614133, 0.46649293,\n",
       "       0.48749956, 0.4953188 ])"
      ]
     },
     "execution_count": 178,
     "metadata": {},
     "output_type": "execute_result"
    }
   ],
   "source": [
    "X_train, X_test, y_train, y_test = train_test_split(X, y, \n",
    "                        shuffle=False, random_state=9)\n",
    "rfr.fit(X_train, y_train) \n",
    "y_pred = rfr.predict(X_test)\n",
    "r2_score(y_test, y_pred, multioutput='raw_values')"
   ]
  },
  {
   "cell_type": "markdown",
   "metadata": {},
   "source": [
    "## 기타 특성 추가\n",
    "- 이동평균, 이동분산, 최대-최소 차이, 평활화(ewma: Exponentially-weighted moving average) 등 특성을 추가할 수 있다"
   ]
  },
  {
   "cell_type": "code",
   "execution_count": 58,
   "metadata": {},
   "outputs": [
    {
     "data": {
      "text/html": [
       "<div>\n",
       "<style scoped>\n",
       "    .dataframe tbody tr th:only-of-type {\n",
       "        vertical-align: middle;\n",
       "    }\n",
       "\n",
       "    .dataframe tbody tr th {\n",
       "        vertical-align: top;\n",
       "    }\n",
       "\n",
       "    .dataframe thead th {\n",
       "        text-align: right;\n",
       "    }\n",
       "</style>\n",
       "<table border=\"1\" class=\"dataframe\">\n",
       "  <thead>\n",
       "    <tr style=\"text-align: right;\">\n",
       "      <th></th>\n",
       "      <th>load</th>\n",
       "      <th>load-1</th>\n",
       "      <th>load-2</th>\n",
       "      <th>load-3</th>\n",
       "      <th>load-4</th>\n",
       "      <th>load-5</th>\n",
       "      <th>temp</th>\n",
       "      <th>temp-1</th>\n",
       "      <th>temp-2</th>\n",
       "      <th>temp-3</th>\n",
       "      <th>temp-4</th>\n",
       "      <th>temp-5</th>\n",
       "      <th>5-mean</th>\n",
       "    </tr>\n",
       "    <tr>\n",
       "      <th>timestamp</th>\n",
       "      <th></th>\n",
       "      <th></th>\n",
       "      <th></th>\n",
       "      <th></th>\n",
       "      <th></th>\n",
       "      <th></th>\n",
       "      <th></th>\n",
       "      <th></th>\n",
       "      <th></th>\n",
       "      <th></th>\n",
       "      <th></th>\n",
       "      <th></th>\n",
       "      <th></th>\n",
       "    </tr>\n",
       "  </thead>\n",
       "  <tbody>\n",
       "    <tr>\n",
       "      <th>2012-01-06</th>\n",
       "      <td>85591.0</td>\n",
       "      <td>88096.0</td>\n",
       "      <td>92168.0</td>\n",
       "      <td>87887.0</td>\n",
       "      <td>76841.0</td>\n",
       "      <td>71562.0</td>\n",
       "      <td>25.902778</td>\n",
       "      <td>24.875000</td>\n",
       "      <td>13.111111</td>\n",
       "      <td>17.430556</td>\n",
       "      <td>37.402778</td>\n",
       "      <td>37.763889</td>\n",
       "      <td>85591.000000</td>\n",
       "    </tr>\n",
       "    <tr>\n",
       "      <th>2012-01-07</th>\n",
       "      <td>76869.0</td>\n",
       "      <td>85591.0</td>\n",
       "      <td>88096.0</td>\n",
       "      <td>92168.0</td>\n",
       "      <td>87887.0</td>\n",
       "      <td>76841.0</td>\n",
       "      <td>31.652778</td>\n",
       "      <td>25.902778</td>\n",
       "      <td>24.875000</td>\n",
       "      <td>13.111111</td>\n",
       "      <td>17.430556</td>\n",
       "      <td>37.402778</td>\n",
       "      <td>81230.000000</td>\n",
       "    </tr>\n",
       "    <tr>\n",
       "      <th>2012-01-08</th>\n",
       "      <td>77767.0</td>\n",
       "      <td>76869.0</td>\n",
       "      <td>85591.0</td>\n",
       "      <td>88096.0</td>\n",
       "      <td>92168.0</td>\n",
       "      <td>87887.0</td>\n",
       "      <td>30.000000</td>\n",
       "      <td>31.652778</td>\n",
       "      <td>25.902778</td>\n",
       "      <td>24.875000</td>\n",
       "      <td>13.111111</td>\n",
       "      <td>17.430556</td>\n",
       "      <td>80075.666667</td>\n",
       "    </tr>\n",
       "    <tr>\n",
       "      <th>2012-01-09</th>\n",
       "      <td>85818.0</td>\n",
       "      <td>77767.0</td>\n",
       "      <td>76869.0</td>\n",
       "      <td>85591.0</td>\n",
       "      <td>88096.0</td>\n",
       "      <td>92168.0</td>\n",
       "      <td>25.277778</td>\n",
       "      <td>30.000000</td>\n",
       "      <td>31.652778</td>\n",
       "      <td>25.902778</td>\n",
       "      <td>24.875000</td>\n",
       "      <td>13.111111</td>\n",
       "      <td>81511.250000</td>\n",
       "    </tr>\n",
       "    <tr>\n",
       "      <th>2012-01-10</th>\n",
       "      <td>85158.0</td>\n",
       "      <td>85818.0</td>\n",
       "      <td>77767.0</td>\n",
       "      <td>76869.0</td>\n",
       "      <td>85591.0</td>\n",
       "      <td>88096.0</td>\n",
       "      <td>33.013889</td>\n",
       "      <td>25.277778</td>\n",
       "      <td>30.000000</td>\n",
       "      <td>31.652778</td>\n",
       "      <td>25.902778</td>\n",
       "      <td>24.875000</td>\n",
       "      <td>82240.600000</td>\n",
       "    </tr>\n",
       "  </tbody>\n",
       "</table>\n",
       "</div>"
      ],
      "text/plain": [
       "               load   load-1   load-2   load-3   load-4   load-5       temp  \\\n",
       "timestamp                                                                     \n",
       "2012-01-06  85591.0  88096.0  92168.0  87887.0  76841.0  71562.0  25.902778   \n",
       "2012-01-07  76869.0  85591.0  88096.0  92168.0  87887.0  76841.0  31.652778   \n",
       "2012-01-08  77767.0  76869.0  85591.0  88096.0  92168.0  87887.0  30.000000   \n",
       "2012-01-09  85818.0  77767.0  76869.0  85591.0  88096.0  92168.0  25.277778   \n",
       "2012-01-10  85158.0  85818.0  77767.0  76869.0  85591.0  88096.0  33.013889   \n",
       "\n",
       "               temp-1     temp-2     temp-3     temp-4     temp-5  \\\n",
       "timestamp                                                           \n",
       "2012-01-06  24.875000  13.111111  17.430556  37.402778  37.763889   \n",
       "2012-01-07  25.902778  24.875000  13.111111  17.430556  37.402778   \n",
       "2012-01-08  31.652778  25.902778  24.875000  13.111111  17.430556   \n",
       "2012-01-09  30.000000  31.652778  25.902778  24.875000  13.111111   \n",
       "2012-01-10  25.277778  30.000000  31.652778  25.902778  24.875000   \n",
       "\n",
       "                  5-mean  \n",
       "timestamp                 \n",
       "2012-01-06  85591.000000  \n",
       "2012-01-07  81230.000000  \n",
       "2012-01-08  80075.666667  \n",
       "2012-01-09  81511.250000  \n",
       "2012-01-10  82240.600000  "
      ]
     },
     "execution_count": 58,
     "metadata": {},
     "output_type": "execute_result"
    }
   ],
   "source": [
    "# 과거 5일간의 평균치를 컬럼에 추가\n",
    "X2= X.copy()\n",
    "X2[\"5-mean\"] = X2.load.rolling(5,min_periods=1).mean()\n",
    "X2[:5]"
   ]
  },
  {
   "cell_type": "markdown",
   "metadata": {},
   "source": [
    "- 다양한 특성 추가 예시\n",
    "- ema에 지수형 가중값을 구한다\n",
    "- min_periods=1 의 의미는 필요한 갯수가 되지 않더라도, 한개라도 평균 등을 계산하라는 뜻임 (초기 값들을 버리지 않기 위함)"
   ]
  },
  {
   "cell_type": "code",
   "execution_count": 60,
   "metadata": {},
   "outputs": [
    {
     "data": {
      "text/html": [
       "<div>\n",
       "<style scoped>\n",
       "    .dataframe tbody tr th:only-of-type {\n",
       "        vertical-align: middle;\n",
       "    }\n",
       "\n",
       "    .dataframe tbody tr th {\n",
       "        vertical-align: top;\n",
       "    }\n",
       "\n",
       "    .dataframe thead th {\n",
       "        text-align: right;\n",
       "    }\n",
       "</style>\n",
       "<table border=\"1\" class=\"dataframe\">\n",
       "  <thead>\n",
       "    <tr style=\"text-align: right;\">\n",
       "      <th></th>\n",
       "      <th>load</th>\n",
       "      <th>load-1</th>\n",
       "      <th>load-2</th>\n",
       "      <th>load-3</th>\n",
       "      <th>load-4</th>\n",
       "      <th>load-5</th>\n",
       "      <th>temp</th>\n",
       "      <th>temp-1</th>\n",
       "      <th>temp-2</th>\n",
       "      <th>temp-3</th>\n",
       "      <th>temp-4</th>\n",
       "      <th>temp-5</th>\n",
       "      <th>5-mean</th>\n",
       "      <th>20-mean</th>\n",
       "      <th>10-std</th>\n",
       "      <th>5EWMA</th>\n",
       "      <th>5-max</th>\n",
       "      <th>5-min</th>\n",
       "      <th>5-peak-difference</th>\n",
       "    </tr>\n",
       "    <tr>\n",
       "      <th>timestamp</th>\n",
       "      <th></th>\n",
       "      <th></th>\n",
       "      <th></th>\n",
       "      <th></th>\n",
       "      <th></th>\n",
       "      <th></th>\n",
       "      <th></th>\n",
       "      <th></th>\n",
       "      <th></th>\n",
       "      <th></th>\n",
       "      <th></th>\n",
       "      <th></th>\n",
       "      <th></th>\n",
       "      <th></th>\n",
       "      <th></th>\n",
       "      <th></th>\n",
       "      <th></th>\n",
       "      <th></th>\n",
       "      <th></th>\n",
       "    </tr>\n",
       "  </thead>\n",
       "  <tbody>\n",
       "    <tr>\n",
       "      <th>2012-01-06</th>\n",
       "      <td>85591.0</td>\n",
       "      <td>88096.0</td>\n",
       "      <td>92168.0</td>\n",
       "      <td>87887.0</td>\n",
       "      <td>76841.0</td>\n",
       "      <td>71562.0</td>\n",
       "      <td>25.902778</td>\n",
       "      <td>24.875000</td>\n",
       "      <td>13.111111</td>\n",
       "      <td>17.430556</td>\n",
       "      <td>37.402778</td>\n",
       "      <td>37.763889</td>\n",
       "      <td>85591.000000</td>\n",
       "      <td>85591.000000</td>\n",
       "      <td>0.000000</td>\n",
       "      <td>85591.000000</td>\n",
       "      <td>85591.0</td>\n",
       "      <td>85591.0</td>\n",
       "      <td>0.0</td>\n",
       "    </tr>\n",
       "    <tr>\n",
       "      <th>2012-01-07</th>\n",
       "      <td>76869.0</td>\n",
       "      <td>85591.0</td>\n",
       "      <td>88096.0</td>\n",
       "      <td>92168.0</td>\n",
       "      <td>87887.0</td>\n",
       "      <td>76841.0</td>\n",
       "      <td>31.652778</td>\n",
       "      <td>25.902778</td>\n",
       "      <td>24.875000</td>\n",
       "      <td>13.111111</td>\n",
       "      <td>17.430556</td>\n",
       "      <td>37.402778</td>\n",
       "      <td>81230.000000</td>\n",
       "      <td>81230.000000</td>\n",
       "      <td>6167.385346</td>\n",
       "      <td>80357.800000</td>\n",
       "      <td>85591.0</td>\n",
       "      <td>76869.0</td>\n",
       "      <td>8722.0</td>\n",
       "    </tr>\n",
       "    <tr>\n",
       "      <th>2012-01-08</th>\n",
       "      <td>77767.0</td>\n",
       "      <td>76869.0</td>\n",
       "      <td>85591.0</td>\n",
       "      <td>88096.0</td>\n",
       "      <td>92168.0</td>\n",
       "      <td>87887.0</td>\n",
       "      <td>30.000000</td>\n",
       "      <td>31.652778</td>\n",
       "      <td>25.902778</td>\n",
       "      <td>24.875000</td>\n",
       "      <td>13.111111</td>\n",
       "      <td>17.430556</td>\n",
       "      <td>80075.666667</td>\n",
       "      <td>80075.666667</td>\n",
       "      <td>4797.476142</td>\n",
       "      <td>79130.578947</td>\n",
       "      <td>85591.0</td>\n",
       "      <td>76869.0</td>\n",
       "      <td>8722.0</td>\n",
       "    </tr>\n",
       "  </tbody>\n",
       "</table>\n",
       "</div>"
      ],
      "text/plain": [
       "               load   load-1   load-2   load-3   load-4   load-5       temp  \\\n",
       "timestamp                                                                     \n",
       "2012-01-06  85591.0  88096.0  92168.0  87887.0  76841.0  71562.0  25.902778   \n",
       "2012-01-07  76869.0  85591.0  88096.0  92168.0  87887.0  76841.0  31.652778   \n",
       "2012-01-08  77767.0  76869.0  85591.0  88096.0  92168.0  87887.0  30.000000   \n",
       "\n",
       "               temp-1     temp-2     temp-3     temp-4     temp-5  \\\n",
       "timestamp                                                           \n",
       "2012-01-06  24.875000  13.111111  17.430556  37.402778  37.763889   \n",
       "2012-01-07  25.902778  24.875000  13.111111  17.430556  37.402778   \n",
       "2012-01-08  31.652778  25.902778  24.875000  13.111111  17.430556   \n",
       "\n",
       "                  5-mean       20-mean       10-std         5EWMA    5-max  \\\n",
       "timestamp                                                                    \n",
       "2012-01-06  85591.000000  85591.000000     0.000000  85591.000000  85591.0   \n",
       "2012-01-07  81230.000000  81230.000000  6167.385346  80357.800000  85591.0   \n",
       "2012-01-08  80075.666667  80075.666667  4797.476142  79130.578947  85591.0   \n",
       "\n",
       "              5-min  5-peak-difference  \n",
       "timestamp                               \n",
       "2012-01-06  85591.0                0.0  \n",
       "2012-01-07  76869.0             8722.0  \n",
       "2012-01-08  76869.0             8722.0  "
      ]
     },
     "execution_count": 60,
     "metadata": {},
     "output_type": "execute_result"
    }
   ],
   "source": [
    "X2[\"20-mean\"] = X2.load.rolling(20,min_periods=1).mean()\n",
    "X2[\"10-std\"] = X2.load.rolling(10, min_periods=1).std().fillna(0)\n",
    "X2['5EWMA'] = X2.load.ewm(span=5).mean()\n",
    "X2[\"5-max\"] = X2.load.rolling(5, min_periods=1).max()\n",
    "X2[\"5-min\"] = X2.load.rolling(5, min_periods=1).min()\n",
    "X2[\"5-peak-difference\"] = X2.load.rolling(5, min_periods=1).max()-X2.load.rolling(5, min_periods=1).min()\n",
    "X2[:3]"
   ]
  },
  {
   "cell_type": "code",
   "execution_count": 61,
   "metadata": {},
   "outputs": [
    {
     "data": {
      "text/plain": [
       "[(LinearRegression(), 1, 0.7011),\n",
       " (LinearRegression(), 2, 0.5213),\n",
       " (LinearRegression(), 3, 0.4473),\n",
       " (RandomForestRegressor(), 1, 0.7262),\n",
       " (RandomForestRegressor(), 2, 0.528),\n",
       " (RandomForestRegressor(), 3, 0.4366),\n",
       " (LGBMRegressor(), 1, 0.703),\n",
       " (LGBMRegressor(), 2, 0.5223),\n",
       " (LGBMRegressor(), 3, 0.3844)]"
      ]
     },
     "execution_count": 61,
     "metadata": {},
     "output_type": "execute_result"
    }
   ],
   "source": [
    "# X2를 사용하는 경우의 성능 비교 (아래에서 X2를 사용함)\n",
    "res = []\n",
    "for model in [lin, rfr, lgbm_r]:\n",
    "    for i in range(1,4):\n",
    "        y = df['y+'+str(i)]\n",
    "        r2 = model_run(model, X2, y, shuffle=False)\n",
    "        res.append((model, i, r2))\n",
    "res"
   ]
  },
  {
   "cell_type": "markdown",
   "metadata": {},
   "source": [
    "# 정답"
   ]
  },
  {
   "cell_type": "markdown",
   "metadata": {},
   "source": [
    "## (연습) 윈도우가 7일 경우의 split_seq()를 수행해보시오"
   ]
  },
  {
   "cell_type": "code",
   "execution_count": 177,
   "metadata": {},
   "outputs": [
    {
     "data": {
      "text/plain": [
       "(array([[ 1,  2,  3,  4,  5],\n",
       "        [ 2,  3,  4,  5,  6],\n",
       "        [ 3,  4,  5,  6,  7],\n",
       "        [ 4,  5,  6,  7,  8],\n",
       "        [ 5,  6,  7,  8,  9],\n",
       "        [ 6,  7,  8,  9, 10],\n",
       "        [ 7,  8,  9, 10, 11],\n",
       "        [ 8,  9, 10, 11, 12]]),\n",
       " array([ 6,  7,  8,  9, 10, 11, 12, 13]))"
      ]
     },
     "execution_count": 177,
     "metadata": {},
     "output_type": "execute_result"
    }
   ],
   "source": [
    "sequence = [1,2,3,4,5,6,7,8,9,10,11,12,13]\n",
    "split_seq(sequence, 5)"
   ]
  },
  {
   "cell_type": "markdown",
   "metadata": {},
   "source": [
    "## (연습) 선형 예측 모델에서 과거 5일 및 15일을 사용할 때 각각의 성능을 구하시오"
   ]
  },
  {
   "cell_type": "code",
   "execution_count": 183,
   "metadata": {},
   "outputs": [
    {
     "data": {
      "text/plain": [
       "0.9333219796700054"
      ]
     },
     "execution_count": 183,
     "metadata": {},
     "output_type": "execute_result"
    }
   ],
   "source": [
    "x_train, y_train = split_seq(train_data, 5)\n",
    "x_test, y_test = split_seq(test_data, 5)\n",
    "lin.fit(x_train, y_train) \n",
    "lin.score(x_test, y_test)"
   ]
  },
  {
   "cell_type": "code",
   "execution_count": 184,
   "metadata": {},
   "outputs": [
    {
     "data": {
      "text/plain": [
       "0.9362455889020727"
      ]
     },
     "execution_count": 184,
     "metadata": {},
     "output_type": "execute_result"
    }
   ],
   "source": [
    "x_train, y_train = split_seq(train_data, 15)\n",
    "x_test, y_test = split_seq(test_data, 15)\n",
    "lin.fit(x_train, y_train) \n",
    "lin.score(x_test, y_test)"
   ]
  },
  {
   "cell_type": "markdown",
   "metadata": {},
   "source": [
    "## (연습) 선형 예측 모델에서 과거 몇 개를 예측에 사용하면 성능이 가장 좋은지 최적 값을 찾으시오\n",
    "\n",
    "- 힌트 n_steps 값을 바꾸어 본다 (1 ~ 180 일)\n",
    "- 가장 성능이 좋을 때의 회귀 성능을 확인하시오"
   ]
  },
  {
   "cell_type": "code",
   "execution_count": 185,
   "metadata": {
    "scrolled": true
   },
   "outputs": [
    {
     "data": {
      "text/plain": [
       "[(1, 0.9278711483333497),\n",
       " (2, 0.9284242771093589),\n",
       " (3, 0.9318384895047028),\n",
       " (4, 0.933021894827026),\n",
       " (5, 0.9333219796700054),\n",
       " (6, 0.9344556836268625),\n",
       " (7, 0.9349083866978511),\n",
       " (8, 0.935610096333157),\n",
       " (9, 0.9355260563224183),\n",
       " (10, 0.9359804760059094)]"
      ]
     },
     "execution_count": 185,
     "metadata": {},
     "output_type": "execute_result"
    }
   ],
   "source": [
    "N = 180\n",
    "result = []\n",
    "\n",
    "for n_steps in range(1,N+1): \n",
    "    x_train, y_train = split_seq(train_data, n_steps)\n",
    "    x_test, y_test = split_seq(test_data, n_steps)\n",
    "    lin.fit(x_train, y_train) \n",
    "    result.append((n_steps, lin.score(x_test, y_test)))\n",
    "                  \n",
    "result[:10]"
   ]
  },
  {
   "cell_type": "code",
   "execution_count": 186,
   "metadata": {},
   "outputs": [
    {
     "data": {
      "text/plain": [
       "[<matplotlib.lines.Line2D at 0x7f9fdb96ce50>]"
      ]
     },
     "execution_count": 186,
     "metadata": {},
     "output_type": "execute_result"
    },
    {
     "data": {
      "image/png": "[encoded data removed]",
      "text/plain": [
       "<Figure size 576x432 with 1 Axes>"
      ]
     },
     "metadata": {
      "image/png": {
       "height": 367,
       "width": 510
      },
      "needs_background": "light"
     },
     "output_type": "display_data"
    }
   ],
   "source": [
    "result = np.array(result)\n",
    "plt.plot(result[:,0], result[:,1])"
   ]
  },
  {
   "cell_type": "code",
   "execution_count": 187,
   "metadata": {},
   "outputs": [
    {
     "name": "stdout",
     "output_type": "stream",
     "text": [
      "Max Error:  8.237\n",
      "Mean Absolute Error:  1.481\n",
      "Root Mean Squared Error:  1.912\n",
      "R-Squared:  0.938\n"
     ]
    }
   ],
   "source": [
    "x_train, y_train = split_seq(train_data, 30)\n",
    "x_test, y_test = split_seq(test_data, 30)\n",
    "lin.fit(x_train, y_train) \n",
    "y_pred = lin.predict(x_test)\n",
    "show_reg_result(y_test, y_pred)"
   ]
  },
  {
   "cell_type": "markdown",
   "metadata": {},
   "source": [
    "## (연습) 최적의 윈도우 값을 찾는 위의 예에서 결과를 리스트가 아니라 딕셔너리에 담아보시오\n",
    "\n",
    "- 딕셔너리에 값을 담을 때는 key를 인자로 사용하고 값을 배정하면 된다\n",
    "- 결과를 그래프로 그려보시오"
   ]
  },
  {
   "cell_type": "code",
   "execution_count": 196,
   "metadata": {},
   "outputs": [],
   "source": [
    "# 리스트가 아니라 딕서너리에 결과를 담는 방법\n",
    "result = {}\n",
    "N = 20\n",
    "for i in range(1,N+1): \n",
    "    n_steps=i\n",
    "    x_test, y_test = split_seq(test_data, n_steps)\n",
    "    y_pred = average_model(x_test)\n",
    "    result[i]= r2_score(y_test, y_pred).round(4)"
   ]
  },
  {
   "cell_type": "code",
   "execution_count": 197,
   "metadata": {},
   "outputs": [
    {
     "data": {
      "text/plain": [
       "{1: 0.9266,\n",
       " 2: 0.9166,\n",
       " 3: 0.9113,\n",
       " 4: 0.9074,\n",
       " 5: 0.9037,\n",
       " 6: 0.901,\n",
       " 7: 0.8991,\n",
       " 8: 0.8982,\n",
       " 9: 0.8971,\n",
       " 10: 0.896,\n",
       " 11: 0.8948,\n",
       " 12: 0.8932,\n",
       " 13: 0.8913,\n",
       " 14: 0.8897,\n",
       " 15: 0.888,\n",
       " 16: 0.8861,\n",
       " 17: 0.8841,\n",
       " 18: 0.8812,\n",
       " 19: 0.8778,\n",
       " 20: 0.8741}"
      ]
     },
     "execution_count": 197,
     "metadata": {},
     "output_type": "execute_result"
    }
   ],
   "source": [
    "result"
   ]
  },
  {
   "cell_type": "code",
   "execution_count": 198,
   "metadata": {
    "scrolled": true
   },
   "outputs": [
    {
     "data": {
      "text/plain": [
       "[<matplotlib.lines.Line2D at 0x7f9ff46c5b50>]"
      ]
     },
     "execution_count": 198,
     "metadata": {},
     "output_type": "execute_result"
    },
    {
     "data": {
      "image/png": "[encoded data removed]",
      "text/plain": [
       "<Figure size 576x432 with 1 Axes>"
      ]
     },
     "metadata": {
      "image/png": {
       "height": 362,
       "width": 501
      },
      "needs_background": "light"
     },
     "output_type": "display_data"
    }
   ],
   "source": [
    "plt.plot(result.keys(),result.values())"
   ]
  },
  {
   "cell_type": "code",
   "execution_count": 199,
   "metadata": {},
   "outputs": [
    {
     "data": {
      "text/plain": [
       "1"
      ]
     },
     "execution_count": 199,
     "metadata": {},
     "output_type": "execute_result"
    }
   ],
   "source": [
    "# 최대값을 들어있는 항목의 키 찾기\n",
    "# 최소값 찾는 함수는 min()\n",
    "max(result, key=result.get)"
   ]
  },
  {
   "cell_type": "markdown",
   "metadata": {},
   "source": [
    "## (연습) LightGBM 모델을 사용하고 윈도우 크기를 바꾸어 성능을 비교하시오\n",
    "\n",
    "- lightgbm을 먼저 설치해야 한다 (!pip install lightgbm)\n",
    "- 모델로 LGBMRegressor()를 사용한다"
   ]
  },
  {
   "cell_type": "code",
   "execution_count": 209,
   "metadata": {},
   "outputs": [
    {
     "name": "stdout",
     "output_type": "stream",
     "text": [
      "max R2:  0.735\n"
     ]
    },
    {
     "data": {
      "text/plain": [
       "Text(0.5, 1.0, 'R2 vs window size(LightGBM)')"
      ]
     },
     "execution_count": 209,
     "metadata": {},
     "output_type": "execute_result"
    },
    {
     "data": {
      "image/png": "[encoded data removed]",
      "text/plain": [
       "<Figure size 576x432 with 1 Axes>"
      ]
     },
     "metadata": {
      "image/png": {
       "height": 381,
       "width": 510
      },
      "needs_background": "light"
     },
     "output_type": "display_data"
    }
   ],
   "source": [
    "lgbm_r = LGBMRegressor()\n",
    "N = 30\n",
    "result = []\n",
    "\n",
    "for n_steps in range(1,N+1): \n",
    "    r2 = split_seq_fit(lgbm_r, train_data, test_data, n_steps)\n",
    "    result.append((n_steps, r2))\n",
    "                  \n",
    "result = np.array(result)\n",
    "print(\"max R2: \", result[:,1].max().round(3))\n",
    "\n",
    "plt.plot(result[:,0], result[:,1])\n",
    "plt.title(\"R2 vs window size(LightGBM)\")"
   ]
  },
  {
   "cell_type": "code",
   "execution_count": null,
   "metadata": {},
   "outputs": [],
   "source": []
  }
 ],
 "metadata": {
  "colab": {
   "collapsed_sections": [],
   "name": "g_30_날씨예측.ipynb",
   "provenance": []
  },
  "kernelspec": {
   "display_name": "Python 3",
   "language": "python",
   "name": "python3"
  },
  "language_info": {
   "codemirror_mode": {
    "name": "ipython",
    "version": 3
   },
   "file_extension": ".py",
   "mimetype": "text/x-python",
   "name": "python",
   "nbconvert_exporter": "python",
   "pygments_lexer": "ipython3",
   "version": "3.8.8"
  },
  "toc": {
   "base_numbering": 1,
   "nav_menu": {},
   "number_sections": false,
   "sideBar": true,
   "skip_h1_title": false,
   "title_cell": "Table of Contents",
   "title_sidebar": "Contents",
   "toc_cell": false,
   "toc_position": {
    "height": "calc(100% - 180px)",
    "left": "10px",
    "top": "150px",
    "width": "165px"
   },
   "toc_section_display": true,
   "toc_window_display": false
  }
 },
 "nbformat": 4,
 "nbformat_minor": 1
}
